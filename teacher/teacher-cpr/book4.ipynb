{
 "cells": [
  {
   "cell_type": "markdown",
   "metadata": {},
   "source": [
    "### Demo - `nbx2` functions\n",
    "\n",
    "These are new functions written in js, which do all the basic functionality we want. The one thing they do which `nbx` function do not is allow `save_notebook` to run before executing other commands.\n",
    "\n",
    "The price for this is the code is one big string, not .py code itself.\n",
    "\n",
    "**Teacher - Side**"
   ]
  },
  {
   "cell_type": "code",
   "execution_count": 1,
   "metadata": {},
   "outputs": [
    {
     "name": "stdout",
     "output_type": "stream",
     "text": [
      "/c/Users/wsutt/Desktop/cpr/teacher/teacher-cpr\n"
     ]
    }
   ],
   "source": [
    "import sys, json\n",
    "sys.path.append('../../')\n",
    "%reload_ext autoreload\n",
    "%autoreload 2\n",
    "from cpr import nbx2\n",
    "!pwd"
   ]
  },
  {
   "cell_type": "markdown",
   "metadata": {},
   "source": [
    "##### Question 1"
   ]
  },
  {
   "cell_type": "code",
   "execution_count": null,
   "metadata": {},
   "outputs": [],
   "source": []
  },
  {
   "cell_type": "code",
   "execution_count": 11,
   "metadata": {},
   "outputs": [
    {
     "name": "stdout",
     "output_type": "stream",
     "text": [
      "simulations run 10000\n",
      "mean of number of pull 33.6504\n"
     ]
    }
   ],
   "source": [
    "import numpy\n",
    "N_SOCKS = 365\n",
    "N = 10_000\n",
    "starting_socks = 2* [i for i in range(N_SOCKS)]\n",
    "n_pulls = []\n",
    "\n",
    "for n in range(N):\n",
    "    \n",
    "    socks = starting_socks.copy()\n",
    "    pulled = []\n",
    "    \n",
    "    for pull_i in range(N_SOCKS + 1):\n",
    "        \n",
    "        ind = numpy.random.randint(0, len(socks) - 1)\n",
    "        \n",
    "        _sock = socks.pop(ind)\n",
    "        \n",
    "        if _sock in pulled:\n",
    "            n_pulls.append(pull_i + 1)\n",
    "            break\n",
    "        else:\n",
    "            pulled.append(_sock)\n",
    "            \n",
    "print(f'simulations run {len(n_pulls)}')\n",
    "print(f'mean of number of pull {numpy.mean(n_pulls)}')"
   ]
  },
  {
   "cell_type": "code",
   "execution_count": 5,
   "metadata": {},
   "outputs": [
    {
     "data": {
      "application/javascript": [
       "\n",
       "Promise.resolve(\n",
       "IPython.notebook.save_notebook(true)\n",
       ").then(function(){\n",
       "return theFinal();\n",
       "}\n",
       ");\n",
       "\n",
       "function theFinal() {\n",
       "\n",
       "var nb_name = IPython.notebook.notebook_name;\n",
       "\n",
       "var py_cmd = '';\n",
       "py_cmd += 'nbx2.ImportClass.merge_give_answer(\"' + nb_name + '\")';\n",
       "\n",
       "IPython.notebook.kernel.execute(py_cmd);\n",
       "console.log(py_cmd);\n",
       "\n",
       "var py_cmd = '';\n",
       "py_cmd += 'nbx2.ImportClass.gitcomm_push_answer()';\n",
       "\n",
       "IPython.notebook.kernel.execute(py_cmd);\n",
       "console.log(py_cmd);\n",
       "\n",
       "}\n"
      ],
      "text/plain": [
       "<IPython.core.display.Javascript object>"
      ]
     },
     "metadata": {},
     "output_type": "display_data"
    },
    {
     "name": "stdout",
     "output_type": "stream",
     "text": [
      "send_answer done.\n"
     ]
    }
   ],
   "source": [
    "nbx2.send_answer()"
   ]
  },
  {
   "cell_type": "code",
   "execution_count": 4,
   "metadata": {},
   "outputs": [
    {
     "data": {
      "image/png": "[encoded data removed]",
      "text/plain": [
       "<Figure size 432x288 with 1 Axes>"
      ]
     },
     "metadata": {
      "needs_background": "light"
     },
     "output_type": "display_data"
    }
   ],
   "source": [
    "from matplotlib import pyplot as plt\n",
    "plt.hist(n_pulls, bins=50)\n",
    "plt.vlines(numpy.mean(n_pulls),0,600)\n",
    "plt.title(f'Historgram of n_pulls for {N_SOCKS} socks');\n",
    "plt.show()"
   ]
  },
  {
   "cell_type": "code",
   "execution_count": 6,
   "metadata": {},
   "outputs": [
    {
     "data": {
      "application/javascript": [
       "\n",
       "Promise.resolve(\n",
       "IPython.notebook.save_notebook(true)\n",
       ").then(function(){\n",
       "return theFinal();\n",
       "}\n",
       ");\n",
       "\n",
       "function theFinal() {\n",
       "\n",
       "var nb_name = IPython.notebook.notebook_name;\n",
       "\n",
       "var py_cmd = '';\n",
       "py_cmd += 'nbx2.ImportClass.merge_give_answer(\"' + nb_name + '\")';\n",
       "\n",
       "IPython.notebook.kernel.execute(py_cmd);\n",
       "console.log(py_cmd);\n",
       "\n",
       "var py_cmd = '';\n",
       "py_cmd += 'nbx2.ImportClass.gitcomm_push_answer()';\n",
       "\n",
       "IPython.notebook.kernel.execute(py_cmd);\n",
       "console.log(py_cmd);\n",
       "\n",
       "}\n"
      ],
      "text/plain": [
       "<IPython.core.display.Javascript object>"
      ]
     },
     "metadata": {},
     "output_type": "display_data"
    },
    {
     "name": "stdout",
     "output_type": "stream",
     "text": [
      "send_answer done.\n"
     ]
    }
   ],
   "source": [
    "nbx2.send_answer()"
   ]
  },
  {
   "cell_type": "code",
   "execution_count": null,
   "metadata": {},
   "outputs": [],
   "source": []
  }
 ],
 "metadata": {
  "kernelspec": {
   "display_name": "Python [conda env:root] *",
   "language": "python",
   "name": "conda-root-py"
  },
  "language_info": {
   "codemirror_mode": {
    "name": "ipython",
    "version": 3
   },
   "file_extension": ".py",
   "mimetype": "text/x-python",
   "name": "python",
   "nbconvert_exporter": "python",
   "pygments_lexer": "ipython3",
   "version": "3.7.4"
  }
 },
 "nbformat": 4,
 "nbformat_minor": 2
}
