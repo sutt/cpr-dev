{
 "cells": [
  {
   "cell_type": "markdown",
   "metadata": {},
   "source": [
    "### Demo - `nbx2` functions\n",
    "\n",
    "These are new functions written in js, which do all the basic functionality we want. The one thing they do which `nbx` function do not is allow `save_notebook` to run before executing other commands.\n",
    "\n",
    "The price for this is the code is one big string, not .py code itself.\n",
    "\n",
    "**Student - Side**"
   ]
  },
  {
   "cell_type": "code",
   "execution_count": 1,
   "metadata": {},
   "outputs": [
    {
     "name": "stdout",
     "output_type": "stream",
     "text": [
      "/c/Users/wsutt/Desktop/cpr/student/student-cpr\n"
     ]
    }
   ],
   "source": [
    "import sys, json\n",
    "sys.path.append('../../')\n",
    "%reload_ext autoreload\n",
    "%autoreload 2\n",
    "from cpr import nbx2\n",
    "!pwd"
   ]
  },
  {
   "cell_type": "markdown",
   "metadata": {},
   "source": [
    "##### Setup for Debug"
   ]
  },
  {
   "cell_type": "code",
   "execution_count": 10,
   "metadata": {},
   "outputs": [
    {
     "name": "stdout",
     "output_type": "stream",
     "text": [
      "stored answers: 37 \n",
      " last cell:\n"
     ]
    },
    {
     "data": {
      "text/plain": [
       "{'cell_type': 'code',\n",
       " 'execution_count': 7,\n",
       " 'metadata': {},\n",
       " 'outputs': [{'name': 'stdout',\n",
       "   'output_type': 'stream',\n",
       "   'text': ['Hey Grace!\\n']}],\n",
       " 'source': [\"print('Hey Grace!')\"]}"
      ]
     },
     "execution_count": 10,
     "metadata": {},
     "output_type": "execute_result"
    }
   ],
   "source": [
    "j = json.load(open('.cpr/cells.json', 'r'))\n",
    "print(f'stored answers: {len(j[\"cells\"])} \\n last cell:')\n",
    "j['cells'][-1]"
   ]
  },
  {
   "cell_type": "markdown",
   "metadata": {},
   "source": [
    "##### Receive An Answer"
   ]
  },
  {
   "cell_type": "code",
   "execution_count": null,
   "metadata": {},
   "outputs": [],
   "source": []
  },
  {
   "cell_type": "code",
   "execution_count": 7,
   "metadata": {},
   "outputs": [
    {
     "name": "stdout",
     "output_type": "stream",
     "text": [
      "Hey Grace!\n"
     ]
    }
   ],
   "source": [
    "print('Hey Grace!')"
   ]
  },
  {
   "cell_type": "code",
   "execution_count": null,
   "metadata": {},
   "outputs": [],
   "source": [
    "nbx2.receive_answer()"
   ]
  },
  {
   "cell_type": "markdown",
   "metadata": {},
   "source": [
    "##### Final Debug"
   ]
  },
  {
   "cell_type": "code",
   "execution_count": 5,
   "metadata": {},
   "outputs": [
    {
     "name": "stdout",
     "output_type": "stream",
     "text": [
      "stored answers: 30 \n",
      " last cell:\n"
     ]
    },
    {
     "data": {
      "text/plain": [
       "{'cell_type': 'code',\n",
       " 'execution_count': 3,\n",
       " 'metadata': {},\n",
       " 'outputs': [],\n",
       " 'source': ['# My New ANSWER...9876243']}"
      ]
     },
     "execution_count": 5,
     "metadata": {},
     "output_type": "execute_result"
    }
   ],
   "source": [
    "j = json.load(open('.cpr/cells.json', 'r'))\n",
    "print(f'stored answers: {len(j[\"cells\"])} \\n last cell:')\n",
    "j['cells'][-1]"
   ]
  },
  {
   "cell_type": "code",
   "execution_count": null,
   "metadata": {},
   "outputs": [],
   "source": []
  }
 ],
 "metadata": {
  "kernelspec": {
   "display_name": "Python [conda env:root] *",
   "language": "python",
   "name": "conda-root-py"
  },
  "language_info": {
   "codemirror_mode": {
    "name": "ipython",
    "version": 3
   },
   "file_extension": ".py",
   "mimetype": "text/x-python",
   "name": "python",
   "nbconvert_exporter": "python",
   "pygments_lexer": "ipython3",
   "version": "3.7.4"
  }
 },
 "nbformat": 4,
 "nbformat_minor": 2
}
