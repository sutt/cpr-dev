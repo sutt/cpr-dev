{
 "cells": [
  {
   "cell_type": "markdown",
   "metadata": {},
   "source": [
    "### Wrapping python in JS\n",
    "Since we want python and js to execute inter-changeably with communication of information and timing, we investigate a technique to do this."
   ]
  },
  {
   "cell_type": "code",
   "execution_count": 1,
   "metadata": {},
   "outputs": [],
   "source": [
    "import sys\n",
    "import subprocess\n",
    "sys.path.append('../../')\n",
    "%reload_ext autoreload\n",
    "%autoreload 2\n",
    "from cpr import misc2"
   ]
  },
  {
   "cell_type": "markdown",
   "metadata": {},
   "source": [
    "### demo_save() + check `my_time`\n",
    "This will call save_notebook and log execution time to python kernel"
   ]
  },
  {
   "cell_type": "code",
   "execution_count": 2,
   "metadata": {},
   "outputs": [
    {
     "data": {
      "application/javascript": [
       "\n",
       "var date0 = new Date();\n",
       "var t0 = date0.getTime();\n",
       "var py_cmd = '';\n",
       "py_cmd += 'my_time = ';\n",
       "\n",
       "Promise.resolve(\n",
       "IPython.notebook.save_notebook(true)\n",
       ").then(function(){\n",
       "return theFinal();\n",
       "}\n",
       ");\n",
       "\n",
       "function theFinal() {\n",
       "var date1 = new Date();\n",
       "var t1 = date1.getTime();\n",
       "var tDiff = t1 - t0;\n",
       "py_cmd += tDiff.toString();\n",
       "console.log(tDiff);\n",
       "IPython.notebook.kernel.execute(py_cmd);\n",
       "}\n"
      ],
      "text/plain": [
       "<IPython.core.display.Javascript object>"
      ]
     },
     "metadata": {},
     "output_type": "display_data"
    }
   ],
   "source": [
    "misc2.demo_save()"
   ]
  },
  {
   "cell_type": "code",
   "execution_count": 3,
   "metadata": {},
   "outputs": [
    {
     "data": {
      "text/plain": [
       "74"
      ]
     },
     "execution_count": 3,
     "metadata": {},
     "output_type": "execute_result"
    }
   ],
   "source": [
    "my_time"
   ]
  },
  {
   "cell_type": "markdown",
   "metadata": {},
   "source": [
    "### demo_nosave() + check `my_time`\n",
    "This will **not** call `save_notebook` and log exectuion time to python.\n",
    "\n",
    "We expect this to execute much quicker."
   ]
  },
  {
   "cell_type": "code",
   "execution_count": 4,
   "metadata": {},
   "outputs": [
    {
     "data": {
      "application/javascript": [
       "\n",
       "var date0 = new Date();\n",
       "var t0 = date0.getTime();\n",
       "var py_cmd = '';\n",
       "py_cmd += 'my_time = ';\n",
       "\n",
       "Promise.resolve(\n",
       "//IPython.notebook.save_notebook(true)\n",
       "1+1\n",
       ").then(function(){\n",
       "return theFinal();\n",
       "}\n",
       ");\n",
       "\n",
       "function theFinal() {\n",
       "var date1 = new Date();\n",
       "var t1 = date1.getTime();\n",
       "var tDiff = t1 - t0;\n",
       "py_cmd += tDiff.toString();\n",
       "console.log(tDiff);\n",
       "IPython.notebook.kernel.execute(py_cmd);\n",
       "}\n"
      ],
      "text/plain": [
       "<IPython.core.display.Javascript object>"
      ]
     },
     "metadata": {},
     "output_type": "display_data"
    }
   ],
   "source": [
    "misc2.demo_nosave()"
   ]
  },
  {
   "cell_type": "code",
   "execution_count": 5,
   "metadata": {},
   "outputs": [
    {
     "data": {
      "text/plain": [
       "1"
      ]
     },
     "execution_count": 5,
     "metadata": {},
     "output_type": "execute_result"
    }
   ],
   "source": [
    "my_time"
   ]
  },
  {
   "cell_type": "code",
   "execution_count": null,
   "metadata": {},
   "outputs": [],
   "source": []
  }
 ],
 "metadata": {
  "kernelspec": {
   "display_name": "Python [conda env:root] *",
   "language": "python",
   "name": "conda-root-py"
  },
  "language_info": {
   "codemirror_mode": {
    "name": "ipython",
    "version": 3
   },
   "file_extension": ".py",
   "mimetype": "text/x-python",
   "name": "python",
   "nbconvert_exporter": "python",
   "pygments_lexer": "ipython3",
   "version": "3.7.4"
  }
 },
 "nbformat": 4,
 "nbformat_minor": 2
}
