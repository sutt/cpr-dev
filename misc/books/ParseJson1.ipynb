{
 "cells": [
  {
   "cell_type": "markdown",
   "metadata": {},
   "source": [
    "### json methods to build the side-loading/saving\n",
    "\n",
    "scrap work for working with json as a notebook or a collection of \"answer-cells\"\n",
    "\n",
    "teacher: `nb -> marked-give-index -> .cpr/cells.json`\n",
    "\n",
    "student: `.cpr/cell.json -> marked-receive-index  -> nb`\n",
    "\n",
    "`assets/` directory next to notebook holds demo.ipynb and demo2.ipynb which we will use to practice writing into / reading+parsing"
   ]
  },
  {
   "cell_type": "code",
   "execution_count": 2,
   "metadata": {},
   "outputs": [
    {
     "data": {
      "text/plain": [
       "dict_keys(['cells', 'metadata', 'nbformat', 'nbformat_minor'])"
      ]
     },
     "execution_count": 2,
     "metadata": {},
     "output_type": "execute_result"
    }
   ],
   "source": [
    "import json\n",
    "j = json.load(open('assets/demo.ipynb', 'r'))\n",
    "j.keys()"
   ]
  },
  {
   "cell_type": "code",
   "execution_count": 10,
   "metadata": {},
   "outputs": [
    {
     "data": {
      "text/plain": [
       "(list,\n",
       " 12,\n",
       " [{'cell_type': 'markdown',\n",
       "   'metadata': {},\n",
       "   'source': ['### Demonstrate Answer-Receive: Reload + Goto\\n',\n",
       "    '\\n',\n",
       "    '`reload_nb()` will allow us to simulate an *answer-receive* action on the front end. Specific requirements:\\n',\n",
       "    ' - save notebook (TODO)\\n',\n",
       "    ' - reload notebook\\n',\n",
       "    ' - scroll to previous cell\\n',\n",
       "    ' - select previous cell\\n',\n",
       "    ' - flash previous cell\\n',\n",
       "    '\\n',\n",
       "    'These are all actions we need to simulate a student receiving answers in a seemless, browser driven way.']},\n",
       "  {'cell_type': 'code',\n",
       "   'execution_count': 1,\n",
       "   'metadata': {},\n",
       "   'outputs': [],\n",
       "   'source': ['import sys\\n',\n",
       "    \"sys.path.append('../../')\\n\",\n",
       "    '%reload_ext autoreload\\n',\n",
       "    '%autoreload 2\\n',\n",
       "    'from cpr import cpr']}])"
      ]
     },
     "execution_count": 10,
     "metadata": {},
     "output_type": "execute_result"
    }
   ],
   "source": [
    "type(j['cells']), len(j['cells']),  j['cells'][:2]"
   ]
  },
  {
   "cell_type": "markdown",
   "metadata": {},
   "source": [
    "### Loading a blank file as json throws an exception"
   ]
  },
  {
   "cell_type": "code",
   "execution_count": 4,
   "metadata": {},
   "outputs": [
    {
     "name": "stdout",
     "output_type": "stream",
     "text": [
      "contents of assets/blank.json: \n",
      "failed to load blank text file\n",
      "Expecting value: line 1 column 1 (char 0)\n"
     ]
    }
   ],
   "source": [
    "blank_fn = 'assets/blank.json'\n",
    "\n",
    "with open(blank_fn, 'r') as f:\n",
    "    contents = f.read()\n",
    "print(f'contents of {blank_fn}: {contents}')\n",
    "\n",
    "try:\n",
    "    blank_json = json.load(open(blank_fn))\n",
    "except Exception as e:\n",
    "    print('failed to load blank text file')\n",
    "    print(e)"
   ]
  },
  {
   "cell_type": "markdown",
   "metadata": {},
   "source": [
    "### Build stub objects"
   ]
  },
  {
   "cell_type": "code",
   "execution_count": 14,
   "metadata": {},
   "outputs": [
    {
     "data": {
      "text/plain": [
       "{'cell_type': 'code',\n",
       " 'execution_count': None,\n",
       " 'metadata': {},\n",
       " 'outputs': [],\n",
       " 'source': []}"
      ]
     },
     "execution_count": 14,
     "metadata": {},
     "output_type": "execute_result"
    }
   ],
   "source": [
    "template_cell = j['cells'][len(j['cells'])-1]\n",
    "template_cell"
   ]
  },
  {
   "cell_type": "code",
   "execution_count": 15,
   "metadata": {},
   "outputs": [],
   "source": [
    "template_cell = {'cell_type': 'code',\n",
    "                 'execution_count': None,\n",
    "                 'metadata': {},\n",
    "                 'outputs': [],\n",
    "                 'source': []}"
   ]
  },
  {
   "cell_type": "code",
   "execution_count": 16,
   "metadata": {},
   "outputs": [
    {
     "data": {
      "text/plain": [
       "{'cell_type': 'code',\n",
       " 'execution_count': None,\n",
       " 'metadata': {},\n",
       " 'outputs': [],\n",
       " 'source': []}"
      ]
     },
     "execution_count": 16,
     "metadata": {},
     "output_type": "execute_result"
    }
   ],
   "source": [
    "template_cell"
   ]
  },
  {
   "cell_type": "code",
   "execution_count": 19,
   "metadata": {},
   "outputs": [
    {
     "data": {
      "text/plain": [
       "{'cell_type': 'code',\n",
       " 'execution_count': None,\n",
       " 'metadata': {},\n",
       " 'outputs': [],\n",
       " 'source': ['reload_nb(  b_save=False,  # save before\\n',\n",
       "  '            b_scroll=True, # scroll into view (if nec)\\n',\n",
       "  '            b_select=True, # bring selection to that cell\\n',\n",
       "  '            b_flash=True,  # flash green\\n',\n",
       "  '            b_log=True,    # output to dev console\\n',\n",
       "  '            debug=False,   # outputs python-generated js script to debug-js.js\\n',\n",
       "  '         )']}"
      ]
     },
     "execution_count": 19,
     "metadata": {},
     "output_type": "execute_result"
    }
   ],
   "source": [
    "cell_list = j['cells']\n",
    "example_code_cell = cell_list[5]\n",
    "example_code_cell"
   ]
  },
  {
   "cell_type": "code",
   "execution_count": 32,
   "metadata": {},
   "outputs": [],
   "source": [
    "custom_cell = template_cell.copy()"
   ]
  },
  {
   "cell_type": "code",
   "execution_count": 33,
   "metadata": {},
   "outputs": [],
   "source": [
    "custom_cell['source'] = [\"print('my custom cell')\"]"
   ]
  },
  {
   "cell_type": "code",
   "execution_count": 34,
   "metadata": {},
   "outputs": [
    {
     "data": {
      "text/plain": [
       "{'cell_type': 'code',\n",
       " 'execution_count': None,\n",
       " 'metadata': {},\n",
       " 'outputs': [],\n",
       " 'source': [\"print('my custom cell')\"]}"
      ]
     },
     "execution_count": 34,
     "metadata": {},
     "output_type": "execute_result"
    }
   ],
   "source": [
    "custom_cell"
   ]
  },
  {
   "cell_type": "markdown",
   "metadata": {},
   "source": [
    "### Example Insert"
   ]
  },
  {
   "cell_type": "code",
   "execution_count": null,
   "metadata": {},
   "outputs": [],
   "source": [
    "example_code_cell"
   ]
  },
  {
   "cell_type": "code",
   "execution_count": 37,
   "metadata": {},
   "outputs": [],
   "source": [
    "len0 = len(j['cells'])\n",
    "j['cells'].insert(2, example_code_cell)\n",
    "len1 = len(j['cells'])"
   ]
  },
  {
   "cell_type": "code",
   "execution_count": 38,
   "metadata": {},
   "outputs": [
    {
     "name": "stdout",
     "output_type": "stream",
     "text": [
      "change in length from 12 to 13\n"
     ]
    }
   ],
   "source": [
    "print(f'change in length from {len0} to {len1}')"
   ]
  },
  {
   "cell_type": "code",
   "execution_count": 39,
   "metadata": {},
   "outputs": [],
   "source": [
    "json.dump(j, open('assets/demo2.ipynb', 'w'))"
   ]
  },
  {
   "cell_type": "code",
   "execution_count": null,
   "metadata": {},
   "outputs": [],
   "source": []
  },
  {
   "cell_type": "markdown",
   "metadata": {},
   "source": [
    "### Full function"
   ]
  },
  {
   "cell_type": "code",
   "execution_count": 40,
   "metadata": {},
   "outputs": [],
   "source": [
    "def insert_cell(cell_index,\n",
    "                new_cell,\n",
    "                nb_json,\n",
    "                b_replace=True,\n",
    "               ):\n",
    "    '''\n",
    "        \n",
    "    '''\n",
    "    new_json = nb_josn.copy()\n",
    "    \n",
    "    if b_replace:\n",
    "        try:\n",
    "            _pop = new_json.pop(cell_index)\n",
    "        except:\n",
    "            print(f'could not remove cell from index: {index}')\n",
    "    \n",
    "    try:\n",
    "        new_json['cells'].insert(cell_index, new_cell)\n",
    "    except:\n",
    "        print(f'could not insert new_cell at index: {index}')\n",
    "    \n",
    "    return new_json"
   ]
  },
  {
   "cell_type": "markdown",
   "metadata": {},
   "source": [
    "### Get the index of a cell with particular input or output"
   ]
  },
  {
   "cell_type": "code",
   "execution_count": 42,
   "metadata": {},
   "outputs": [
    {
     "data": {
      "text/plain": [
       "[0, 2, 4, 6, 9, 11]"
      ]
     },
     "execution_count": 42,
     "metadata": {},
     "output_type": "execute_result"
    }
   ],
   "source": [
    "term = 'reload_nb('\n",
    "ind_terms = [i for i, cell in enumerate(cell_list)\n",
    "            if any([term in t for t in cell.get('source', [])]) \n",
    "           ]\n",
    "ind_terms"
   ]
  },
  {
   "cell_type": "code",
   "execution_count": 43,
   "metadata": {},
   "outputs": [
    {
     "data": {
      "text/plain": [
       "11"
      ]
     },
     "execution_count": 43,
     "metadata": {},
     "output_type": "execute_result"
    }
   ],
   "source": [
    "ind_terms[-1]"
   ]
  },
  {
   "cell_type": "code",
   "execution_count": null,
   "metadata": {},
   "outputs": [],
   "source": []
  },
  {
   "cell_type": "markdown",
   "metadata": {},
   "source": [
    "### Insert at a particular position"
   ]
  },
  {
   "cell_type": "code",
   "execution_count": 27,
   "metadata": {},
   "outputs": [],
   "source": [
    "l = [1,2,3]"
   ]
  },
  {
   "cell_type": "code",
   "execution_count": 28,
   "metadata": {},
   "outputs": [
    {
     "data": {
      "text/plain": [
       "[1, 17, 2, 3]"
      ]
     },
     "execution_count": 28,
     "metadata": {},
     "output_type": "execute_result"
    }
   ],
   "source": [
    "l.insert(1,17)\n",
    "l"
   ]
  },
  {
   "cell_type": "code",
   "execution_count": 29,
   "metadata": {},
   "outputs": [
    {
     "data": {
      "text/plain": [
       "[1, 17, 2, 99, 3]"
      ]
     },
     "execution_count": 29,
     "metadata": {},
     "output_type": "execute_result"
    }
   ],
   "source": [
    "l.insert(3,99)\n",
    "l"
   ]
  },
  {
   "cell_type": "code",
   "execution_count": 30,
   "metadata": {},
   "outputs": [
    {
     "data": {
      "text/plain": [
       "[1, 17, 2, 99, 3, -1]"
      ]
     },
     "execution_count": 30,
     "metadata": {},
     "output_type": "execute_result"
    }
   ],
   "source": [
    "l.insert(5,-1)\n",
    "l"
   ]
  },
  {
   "cell_type": "code",
   "execution_count": 31,
   "metadata": {},
   "outputs": [
    {
     "data": {
      "text/plain": [
       "[1, 17, 2, 99, 3, -1, 55]"
      ]
     },
     "execution_count": 31,
     "metadata": {},
     "output_type": "execute_result"
    }
   ],
   "source": [
    "l.insert(22,55)\n",
    "l"
   ]
  },
  {
   "cell_type": "markdown",
   "metadata": {},
   "source": [
    "### Example multi-cell insert"
   ]
  },
  {
   "cell_type": "code",
   "execution_count": null,
   "metadata": {},
   "outputs": [],
   "source": []
  },
  {
   "cell_type": "code",
   "execution_count": null,
   "metadata": {},
   "outputs": [],
   "source": []
  }
 ],
 "metadata": {
  "kernelspec": {
   "display_name": "Python [conda env:root] *",
   "language": "python",
   "name": "conda-root-py"
  },
  "language_info": {
   "codemirror_mode": {
    "name": "ipython",
    "version": 3
   },
   "file_extension": ".py",
   "mimetype": "text/x-python",
   "name": "python",
   "nbconvert_exporter": "python",
   "pygments_lexer": "ipython3",
   "version": "3.7.4"
  }
 },
 "nbformat": 4,
 "nbformat_minor": 2
}
