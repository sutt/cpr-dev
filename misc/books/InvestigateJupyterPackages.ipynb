{
 "cells": [
  {
   "cell_type": "markdown",
   "metadata": {},
   "source": [
    "### Walk into the Jupyter/IPython API packages and expose most method names\n",
    "\n",
    "We'd like to get an idea of the extant of the API and find relevant methods by name.\n",
    "\n",
    "Ideally we'd love a `load_notebook` / `reload_notebook` method but don't those don't appear to be available. We document our search for those below."
   ]
  },
  {
   "cell_type": "code",
   "execution_count": 7,
   "metadata": {},
   "outputs": [],
   "source": [
    "import copy\n",
    "import warnings\n",
    "warnings.filterwarnings('ignore')"
   ]
  },
  {
   "cell_type": "code",
   "execution_count": 8,
   "metadata": {},
   "outputs": [],
   "source": [
    "def recurse_obj(obj, max_depth=5, remove_dunder=True):\n",
    "    \n",
    "    '''\n",
    "        return a flat dict that is recursively grown from the\n",
    "        methods revealed by `__dir__()`.\n",
    "        value for [sub]module key is it's associated methods \n",
    "        or blank list.\n",
    "        dunder methods excluded by default.\n",
    "        useful for seeing the extent of methods in a package tree.\n",
    "        improvement: how to only get package specfic methods.\n",
    "    '''\n",
    "    \n",
    "    all_objects = {obj:None}\n",
    "    \n",
    "    for _iter in range(max_depth):\n",
    "        \n",
    "        saved_all_objects = copy.deepcopy(all_objects)\n",
    "        \n",
    "        for k,v in saved_all_objects.items():\n",
    "            \n",
    "            if v is None:\n",
    "                \n",
    "                methods = []\n",
    "                \n",
    "                try:\n",
    "                    methods = eval(k).__dir__() \n",
    "                except:\n",
    "                    pass\n",
    "                \n",
    "                if remove_dunder:\n",
    "                    methods = [s for s in methods if s[:2] != '__']\n",
    "                    \n",
    "                all_objects[k] = methods\n",
    "\n",
    "                for method in methods:\n",
    "                    full_method = k + '.' + method\n",
    "                    all_objects[full_method] = None\n",
    "\n",
    "    return all_objects"
   ]
  },
  {
   "cell_type": "code",
   "execution_count": 11,
   "metadata": {},
   "outputs": [],
   "source": [
    "import IPython, notebook, jupyter \n",
    "import jupyter_client, jupyter_core, jupyter_console\n",
    "\n",
    "md = 6\n",
    "\n",
    "imethods = recurse_obj('IPython', max_depth=md)\n",
    "nmethods = recurse_obj('notebook', max_depth=md)\n",
    "jmethods = recurse_obj('jupyter', max_depth=md)\n",
    "jclmethods = recurse_obj('jupyter_client', max_depth=md)\n",
    "jcomethods = recurse_obj('jupyter_core', max_depth=md)\n",
    "jcnmethods = recurse_obj('jupyter_console', max_depth=md)"
   ]
  },
  {
   "cell_type": "code",
   "execution_count": 12,
   "metadata": {},
   "outputs": [],
   "source": [
    "s_modules=[ 'IPython',\n",
    "            'notebook',\n",
    "            'jupyter',\n",
    "            'jupyter_client',\n",
    "            'jupyter_core',\n",
    "            'jupyter_console',]\n",
    "\n",
    "d_modules=[ imethods,\n",
    "             nmethods,\n",
    "             jmethods,\n",
    "             jclmethods,\n",
    "             jcomethods,\n",
    "             jcnmethods,]"
   ]
  },
  {
   "cell_type": "code",
   "execution_count": 13,
   "metadata": {},
   "outputs": [
    {
     "name": "stdout",
     "output_type": "stream",
     "text": [
      "IPython : 1346938\n",
      "notebook : 196214\n",
      "jupyter : 1\n",
      "jupyter_client : 1144679\n",
      "jupyter_core : 183463\n",
      "jupyter_console : 8\n"
     ]
    }
   ],
   "source": [
    "#max_depth=6\n",
    "len_modules = [s + ' : ' + str(len(d)) \n",
    "               for s,d in zip(s_modules, d_modules)]\n",
    "print(*len_modules, sep='\\n')"
   ]
  },
  {
   "cell_type": "markdown",
   "metadata": {},
   "source": [
    "Lots of methods in four of the six packages.\n",
    "\n",
    "Now let's combine all dictionaries and search for particular terms within..."
   ]
  },
  {
   "cell_type": "code",
   "execution_count": 25,
   "metadata": {},
   "outputs": [
    {
     "name": "stdout",
     "output_type": "stream",
     "text": [
      "All number of methods: 2871303\n"
     ]
    }
   ],
   "source": [
    "all_methods = [d.keys() for d in d_modules]\n",
    "all_methods = [item for sublist in all_methods for item in sublist]\n",
    "\n",
    "print(f'All number of methods: {len(all_methods)}')"
   ]
  },
  {
   "cell_type": "code",
   "execution_count": 27,
   "metadata": {},
   "outputs": [],
   "source": [
    "def search_term(term, list_keys):\n",
    "    return [v for i,v in enumerate(list_keys) \n",
    "            if term in v.lower()]"
   ]
  },
  {
   "cell_type": "code",
   "execution_count": 33,
   "metadata": {},
   "outputs": [
    {
     "data": {
      "text/plain": [
       "[]"
      ]
     },
     "execution_count": 33,
     "metadata": {},
     "output_type": "execute_result"
    }
   ],
   "source": [
    "search_term('load_notebook', all_methods)"
   ]
  },
  {
   "cell_type": "code",
   "execution_count": 34,
   "metadata": {},
   "outputs": [
    {
     "name": "stdout",
     "output_type": "stream",
     "text": [
      "221\n"
     ]
    },
    {
     "data": {
      "text/plain": [
       "['IPython.core.extensions.reload',\n",
       " 'IPython.core.completer.jedi.preload_module',\n",
       " 'IPython.utils.module_paths.importlib._RELOADING',\n",
       " 'IPython.utils.module_paths.importlib.reload',\n",
       " 'IPython.terminal.pt_inputhooks.importlib._RELOADING',\n",
       " 'IPython.terminal.pt_inputhooks.importlib.reload',\n",
       " 'IPython.sys.displayhook.shell.extension_manager.reload_extension',\n",
       " 'IPython.sys.displayhook.parent.extension_manager.reload_extension',\n",
       " 'IPython.core.debugger.inspect.importlib._RELOADING',\n",
       " 'IPython.core.debugger.inspect.importlib.reload',\n",
       " 'IPython.core.ultratb.inspect.importlib._RELOADING',\n",
       " 'IPython.core.ultratb.inspect.importlib.reload',\n",
       " 'IPython.core.ultratb.pydoc.importlib._RELOADING',\n",
       " 'IPython.core.ultratb.pydoc.importlib.reload',\n",
       " 'IPython.core.oinspect.inspect.importlib._RELOADING',\n",
       " 'IPython.core.oinspect.inspect.importlib.reload',\n",
       " 'IPython.core.interactiveshell.runpy.importlib._RELOADING',\n",
       " 'IPython.core.interactiveshell.runpy.importlib.reload',\n",
       " 'IPython.core.completer.inspect.importlib._RELOADING',\n",
       " 'IPython.core.completer.inspect.importlib.reload']"
      ]
     },
     "execution_count": 34,
     "metadata": {},
     "output_type": "execute_result"
    }
   ],
   "source": [
    "ret = search_term('reload', all_methods)\n",
    "print(len(ret))\n",
    "ret[:20]"
   ]
  },
  {
   "cell_type": "code",
   "execution_count": 35,
   "metadata": {
    "scrolled": false
   },
   "outputs": [
    {
     "name": "stdout",
     "output_type": "stream",
     "text": [
      "6414\n"
     ]
    },
    {
     "data": {
      "text/plain": [
       "['IPython.core.payload',\n",
       " 'IPython.core.payloadpage',\n",
       " 'IPython.sys.displayhook._load_config',\n",
       " 'IPython.core.application.PyFileConfigLoader',\n",
       " 'IPython.core.application.ProfileAwareConfigLoader',\n",
       " 'IPython.core.extensions.reload',\n",
       " 'IPython.core.payload.Configurable',\n",
       " 'IPython.core.payload.List',\n",
       " 'IPython.core.payload.PayloadManager',\n",
       " 'IPython.core.interactiveshell.PayloadManager',\n",
       " 'IPython.core.payloadpage.warnings',\n",
       " 'IPython.core.payloadpage.get_ipython',\n",
       " 'IPython.core.payloadpage.page',\n",
       " 'IPython.core.payloadpage.install_payload_page',\n",
       " 'IPython.terminal.ipapp.load_default_config',\n",
       " 'IPython.terminal.embed.load_default_config',\n",
       " 'IPython.extensions.storemagic.load_ipython_extension',\n",
       " 'IPython.os.sys.displayhook._load_config',\n",
       " 'IPython.sys.displayhook.session._load_config',\n",
       " 'IPython.sys.displayhook.shell.history_load_length']"
      ]
     },
     "execution_count": 35,
     "metadata": {},
     "output_type": "execute_result"
    }
   ],
   "source": [
    "ret = search_term('load', all_methods)\n",
    "print(len(ret))\n",
    "ret[:20]"
   ]
  },
  {
   "cell_type": "code",
   "execution_count": 37,
   "metadata": {},
   "outputs": [
    {
     "data": {
      "text/plain": [
       "[]"
      ]
     },
     "execution_count": 37,
     "metadata": {},
     "output_type": "execute_result"
    }
   ],
   "source": [
    "[e for e in ret if 'notebook' in e.lower()]"
   ]
  },
  {
   "cell_type": "code",
   "execution_count": 40,
   "metadata": {},
   "outputs": [
    {
     "name": "stdout",
     "output_type": "stream",
     "text": [
      "3751\n"
     ]
    },
    {
     "data": {
      "text/plain": [
       "['IPython.sys.displayhook._load_config',\n",
       " 'IPython.core.payloadpage.install_payload_page',\n",
       " 'IPython.terminal.ipapp.load_default_config',\n",
       " 'IPython.terminal.embed.load_default_config',\n",
       " 'IPython.extensions.storemagic.load_ipython_extension',\n",
       " 'IPython.os.sys.displayhook._load_config',\n",
       " 'IPython.sys.displayhook.session._load_config',\n",
       " 'IPython.sys.displayhook.shell.history_load_length',\n",
       " 'IPython.sys.displayhook.shell.payload_manager',\n",
       " 'IPython.sys.displayhook.shell._load_config']"
      ]
     },
     "execution_count": 40,
     "metadata": {},
     "output_type": "execute_result"
    }
   ],
   "source": [
    "ret = search_term('load_', all_methods)\n",
    "print(len(ret))\n",
    "ret[:10]"
   ]
  },
  {
   "cell_type": "code",
   "execution_count": 42,
   "metadata": {
    "scrolled": false
   },
   "outputs": [
    {
     "name": "stdout",
     "output_type": "stream",
     "text": [
      "80\n"
     ]
    },
    {
     "data": {
      "text/plain": [
       "['IPython.core.magics.packaging._is_conda_environment',\n",
       " 'IPython.core.magics.packaging._get_conda_executable',\n",
       " 'IPython.core.magics.packaging.CONDA_COMMANDS_REQUIRING_PREFIX',\n",
       " 'IPython.core.magics.packaging.CONDA_COMMANDS_REQUIRING_YES',\n",
       " 'IPython.core.magics.packaging.CONDA_ENV_FLAGS',\n",
       " 'IPython.core.magics.packaging.CONDA_YES_FLAGS',\n",
       " 'IPython.core.magics.packaging.CONDA_COMMANDS_REQUIRING_PREFIX.add',\n",
       " 'IPython.core.magics.packaging.CONDA_COMMANDS_REQUIRING_PREFIX.clear',\n",
       " 'IPython.core.magics.packaging.CONDA_COMMANDS_REQUIRING_PREFIX.copy',\n",
       " 'IPython.core.magics.packaging.CONDA_COMMANDS_REQUIRING_PREFIX.discard']"
      ]
     },
     "execution_count": 42,
     "metadata": {},
     "output_type": "execute_result"
    }
   ],
   "source": [
    "ret = search_term('conda', all_methods)\n",
    "print(len(ret))\n",
    "ret[:10]"
   ]
  },
  {
   "cell_type": "code",
   "execution_count": null,
   "metadata": {},
   "outputs": [],
   "source": []
  }
 ],
 "metadata": {
  "kernelspec": {
   "display_name": "Python 3",
   "language": "python",
   "name": "python3"
  },
  "language_info": {
   "codemirror_mode": {
    "name": "ipython",
    "version": 3
   },
   "file_extension": ".py",
   "mimetype": "text/x-python",
   "name": "python",
   "nbconvert_exporter": "python",
   "pygments_lexer": "ipython3",
   "version": "3.7.2"
  }
 },
 "nbformat": 4,
 "nbformat_minor": 2
}
