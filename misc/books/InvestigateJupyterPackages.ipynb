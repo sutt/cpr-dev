{
 "cells": [
  {
   "cell_type": "markdown",
   "metadata": {},
   "source": [
    "### Walk into the Jupyter/IPython API packages and expose most method names\n",
    "\n",
    "We'd like to get an idea of the extant of the API and find relevant methods by name.\n",
    "\n",
    "Ideally we'd love a `load_notebook` / `reload_notebook` method but don't those don't appear to be available. We document our search for those below."
   ]
  },
  {
   "cell_type": "code",
   "execution_count": 7,
   "metadata": {},
   "outputs": [],
   "source": [
    "import copy\n",
    "import warnings\n",
    "warnings.filterwarnings('ignore')"
   ]
  },
  {
   "cell_type": "code",
   "execution_count": 8,
   "metadata": {},
   "outputs": [],
   "source": [
    "def recurse_obj(obj, max_depth=5, remove_dunder=True):\n",
    "    \n",
    "    '''\n",
    "        return a flat dict that is recursively grown from the\n",
    "        methods revealed by `__dir__()`.\n",
    "        value for [sub]module key is it's associated methods \n",
    "        or blank list.\n",
    "        dunder methods excluded by default.\n",
    "        useful for seeing the extent of methods in a package tree.\n",
    "        improvement: how to only get package specfic methods.\n",
    "    '''\n",
    "    \n",
    "    all_objects = {obj:None}\n",
    "    \n",
    "    for _iter in range(max_depth):\n",
    "        \n",
    "        saved_all_objects = copy.deepcopy(all_objects)\n",
    "        \n",
    "        for k,v in saved_all_objects.items():\n",
    "            \n",
    "            if v is None:\n",
    "                \n",
    "                methods = []\n",
    "                \n",
    "                try:\n",
    "                    methods = eval(k).__dir__() \n",
    "                except:\n",
    "                    pass\n",
    "                \n",
    "                if remove_dunder:\n",
    "                    methods = [s for s in methods if s[:2] != '__']\n",
    "                    \n",
    "                all_objects[k] = methods\n",
    "\n",
    "                for method in methods:\n",
    "                    full_method = k + '.' + method\n",
    "                    all_objects[full_method] = None\n",
    "\n",
    "    return all_objects"
   ]
  },
  {
   "cell_type": "code",
   "execution_count": 44,
   "metadata": {},
   "outputs": [],
   "source": [
    "import IPython, notebook, jupyter \n",
    "import jupyter_client, jupyter_core, jupyter_console\n",
    "import ipykernel, nbformat\n",
    "\n",
    "md = 6\n",
    "\n",
    "imethods = recurse_obj('IPython', max_depth=md)\n",
    "nmethods = recurse_obj('notebook', max_depth=md)\n",
    "jmethods = recurse_obj('jupyter', max_depth=md)\n",
    "jclmethods = recurse_obj('jupyter_client', max_depth=md)\n",
    "jcomethods = recurse_obj('jupyter_core', max_depth=md)\n",
    "jcnmethods = recurse_obj('jupyter_console', max_depth=md)\n",
    "ipnmethods = recurse_obj('ipykernel', max_depth=md)\n",
    "nbnmethods = recurse_obj('nbformat', max_depth=md)"
   ]
  },
  {
   "cell_type": "code",
   "execution_count": 45,
   "metadata": {},
   "outputs": [],
   "source": [
    "s_modules=[ 'IPython',\n",
    "            'notebook',\n",
    "            'jupyter',\n",
    "            'jupyter_client',\n",
    "            'jupyter_core',\n",
    "            'jupyter_console',\n",
    "            'ipykernel',\n",
    "            'nbformat']\n",
    "\n",
    "d_modules=[ imethods,\n",
    "             nmethods,\n",
    "             jmethods,\n",
    "             jclmethods,\n",
    "             jcomethods,\n",
    "             jcnmethods,\n",
    "             ipnmethods,\n",
    "             nbnmethods]"
   ]
  },
  {
   "cell_type": "code",
   "execution_count": 46,
   "metadata": {},
   "outputs": [
    {
     "name": "stdout",
     "output_type": "stream",
     "text": [
      "IPython : 1341787\n",
      "notebook : 195003\n",
      "jupyter : 1\n",
      "jupyter_client : 1142233\n",
      "jupyter_core : 182395\n",
      "jupyter_console : 8\n",
      "ipykernel : 1342317\n",
      "nbformat : 275425\n"
     ]
    }
   ],
   "source": [
    "#max_depth=6\n",
    "len_modules = [s + ' : ' + str(len(d)) \n",
    "               for s,d in zip(s_modules, d_modules)]\n",
    "print(*len_modules, sep='\\n')"
   ]
  },
  {
   "cell_type": "markdown",
   "metadata": {},
   "source": [
    "Lots of methods in six of the eight packages.\n",
    "\n",
    "Now let's combine all dictionaries and search for particular terms within..."
   ]
  },
  {
   "cell_type": "code",
   "execution_count": 48,
   "metadata": {},
   "outputs": [
    {
     "name": "stdout",
     "output_type": "stream",
     "text": [
      "All number of methods: 4479169\n"
     ]
    }
   ],
   "source": [
    "all_methods = [d.keys() for d in d_modules]\n",
    "all_methods = [item for sublist in all_methods for item in sublist]\n",
    "\n",
    "print(f'All number of methods: {len(all_methods)}')"
   ]
  },
  {
   "cell_type": "code",
   "execution_count": 49,
   "metadata": {},
   "outputs": [],
   "source": [
    "def search_term(term, list_keys):\n",
    "    return [v for i,v in enumerate(list_keys) \n",
    "            if term in v.lower()]"
   ]
  },
  {
   "cell_type": "code",
   "execution_count": 50,
   "metadata": {},
   "outputs": [
    {
     "data": {
      "text/plain": [
       "[]"
      ]
     },
     "execution_count": 50,
     "metadata": {},
     "output_type": "execute_result"
    }
   ],
   "source": [
    "search_term('load_notebook', all_methods)"
   ]
  },
  {
   "cell_type": "code",
   "execution_count": 51,
   "metadata": {},
   "outputs": [
    {
     "name": "stdout",
     "output_type": "stream",
     "text": [
      "249\n"
     ]
    },
    {
     "data": {
      "text/plain": [
       "['IPython.core.extensions.reload',\n",
       " 'IPython.core.completer.jedi.preload_module',\n",
       " 'IPython.utils.module_paths.importlib._RELOADING',\n",
       " 'IPython.utils.module_paths.importlib.reload',\n",
       " 'IPython.terminal.pt_inputhooks.importlib._RELOADING',\n",
       " 'IPython.terminal.pt_inputhooks.importlib.reload',\n",
       " 'IPython.sys.displayhook.shell.extension_manager.reload_extension',\n",
       " 'IPython.sys.displayhook.parent.extension_manager.reload_extension',\n",
       " 'IPython.core.debugger.inspect.importlib._RELOADING',\n",
       " 'IPython.core.debugger.inspect.importlib.reload',\n",
       " 'IPython.core.ultratb.inspect.importlib._RELOADING',\n",
       " 'IPython.core.ultratb.inspect.importlib.reload',\n",
       " 'IPython.core.ultratb.pydoc.importlib._RELOADING',\n",
       " 'IPython.core.ultratb.pydoc.importlib.reload',\n",
       " 'IPython.core.oinspect.inspect.importlib._RELOADING',\n",
       " 'IPython.core.oinspect.inspect.importlib.reload',\n",
       " 'IPython.core.interactiveshell.runpy.importlib._RELOADING',\n",
       " 'IPython.core.interactiveshell.runpy.importlib.reload',\n",
       " 'IPython.core.completer.inspect.importlib._RELOADING',\n",
       " 'IPython.core.completer.inspect.importlib.reload']"
      ]
     },
     "execution_count": 51,
     "metadata": {},
     "output_type": "execute_result"
    }
   ],
   "source": [
    "ret = search_term('reload', all_methods)\n",
    "print(len(ret))\n",
    "ret[:20]"
   ]
  },
  {
   "cell_type": "code",
   "execution_count": 52,
   "metadata": {
    "scrolled": false
   },
   "outputs": [
    {
     "name": "stdout",
     "output_type": "stream",
     "text": [
      "10799\n"
     ]
    },
    {
     "data": {
      "text/plain": [
       "['IPython.core.payload',\n",
       " 'IPython.core.payloadpage',\n",
       " 'IPython.sys.displayhook._load_config',\n",
       " 'IPython.core.application.PyFileConfigLoader',\n",
       " 'IPython.core.application.ProfileAwareConfigLoader',\n",
       " 'IPython.core.extensions.reload',\n",
       " 'IPython.core.payload.Configurable',\n",
       " 'IPython.core.payload.List',\n",
       " 'IPython.core.payload.PayloadManager',\n",
       " 'IPython.core.interactiveshell.PayloadManager',\n",
       " 'IPython.core.payloadpage.warnings',\n",
       " 'IPython.core.payloadpage.get_ipython',\n",
       " 'IPython.core.payloadpage.page',\n",
       " 'IPython.core.payloadpage.install_payload_page',\n",
       " 'IPython.terminal.ipapp.load_default_config',\n",
       " 'IPython.terminal.embed.load_default_config',\n",
       " 'IPython.extensions.storemagic.load_ipython_extension',\n",
       " 'IPython.os.sys.displayhook._load_config',\n",
       " 'IPython.sys.displayhook.session._load_config',\n",
       " 'IPython.sys.displayhook.shell.history_load_length']"
      ]
     },
     "execution_count": 52,
     "metadata": {},
     "output_type": "execute_result"
    }
   ],
   "source": [
    "ret = search_term('load', all_methods)\n",
    "print(len(ret))\n",
    "ret[:20]"
   ]
  },
  {
   "cell_type": "code",
   "execution_count": 54,
   "metadata": {},
   "outputs": [
    {
     "name": "stdout",
     "output_type": "stream",
     "text": [
      "1342317\n"
     ]
    },
    {
     "data": {
      "text/plain": [
       "['ipykernel',\n",
       " 'ipykernel._version',\n",
       " 'ipykernel.version_info',\n",
       " 'ipykernel.kernel_protocol_version_info',\n",
       " 'ipykernel.kernel_protocol_version',\n",
       " 'ipykernel.connect',\n",
       " 'ipykernel.write_connection_file',\n",
       " 'ipykernel.get_connection_file',\n",
       " 'ipykernel.find_connection_file',\n",
       " 'ipykernel.get_connection_info',\n",
       " 'ipykernel.connect_qtconsole',\n",
       " 'ipykernel.iostream',\n",
       " 'ipykernel.heartbeat',\n",
       " 'ipykernel.jsonutil',\n",
       " 'ipykernel.kernelbase',\n",
       " 'ipykernel.comm',\n",
       " 'ipykernel.displayhook',\n",
       " 'ipykernel.zmqshell',\n",
       " 'ipykernel.ipkernel',\n",
       " 'ipykernel.parentpoller']"
      ]
     },
     "execution_count": 54,
     "metadata": {},
     "output_type": "execute_result"
    }
   ],
   "source": [
    "ret = search_term('kernel', imethods)\n",
    "print(len(ret))\n",
    "ret[:20]"
   ]
  },
  {
   "cell_type": "code",
   "execution_count": 64,
   "metadata": {
    "scrolled": false
   },
   "outputs": [
    {
     "name": "stdout",
     "output_type": "stream",
     "text": [
      "5877\n"
     ]
    },
    {
     "data": {
      "text/plain": [
       "['IPython.embed_kernel',\n",
       " 'IPython.start_kernel',\n",
       " 'IPython.release.kernel_protocol_version_info',\n",
       " 'IPython.release.kernel_protocol_version',\n",
       " 'IPython.core.release.kernel_protocol_version_info',\n",
       " 'IPython.core.release.kernel_protocol_version',\n",
       " 'IPython.release.kernel_protocol_version_info.index',\n",
       " 'IPython.release.kernel_protocol_version_info.count',\n",
       " 'IPython.release.kernel_protocol_version.encode',\n",
       " 'IPython.release.kernel_protocol_version.replace',\n",
       " 'IPython.release.kernel_protocol_version.split',\n",
       " 'IPython.release.kernel_protocol_version.rsplit',\n",
       " 'IPython.release.kernel_protocol_version.join',\n",
       " 'IPython.release.kernel_protocol_version.capitalize',\n",
       " 'IPython.release.kernel_protocol_version.casefold',\n",
       " 'IPython.release.kernel_protocol_version.title',\n",
       " 'IPython.release.kernel_protocol_version.center',\n",
       " 'IPython.release.kernel_protocol_version.count',\n",
       " 'IPython.release.kernel_protocol_version.expandtabs',\n",
       " 'IPython.release.kernel_protocol_version.find',\n",
       " 'IPython.release.kernel_protocol_version.partition',\n",
       " 'IPython.release.kernel_protocol_version.index',\n",
       " 'IPython.release.kernel_protocol_version.ljust',\n",
       " 'IPython.release.kernel_protocol_version.lower',\n",
       " 'IPython.release.kernel_protocol_version.lstrip',\n",
       " 'IPython.release.kernel_protocol_version.rfind',\n",
       " 'IPython.release.kernel_protocol_version.rindex',\n",
       " 'IPython.release.kernel_protocol_version.rjust',\n",
       " 'IPython.release.kernel_protocol_version.rstrip',\n",
       " 'IPython.release.kernel_protocol_version.rpartition',\n",
       " 'IPython.release.kernel_protocol_version.splitlines',\n",
       " 'IPython.release.kernel_protocol_version.strip',\n",
       " 'IPython.release.kernel_protocol_version.swapcase',\n",
       " 'IPython.release.kernel_protocol_version.translate',\n",
       " 'IPython.release.kernel_protocol_version.upper',\n",
       " 'IPython.release.kernel_protocol_version.startswith',\n",
       " 'IPython.release.kernel_protocol_version.endswith',\n",
       " 'IPython.release.kernel_protocol_version.isascii',\n",
       " 'IPython.release.kernel_protocol_version.islower',\n",
       " 'IPython.release.kernel_protocol_version.isupper',\n",
       " 'IPython.release.kernel_protocol_version.istitle',\n",
       " 'IPython.release.kernel_protocol_version.isspace',\n",
       " 'IPython.release.kernel_protocol_version.isdecimal',\n",
       " 'IPython.release.kernel_protocol_version.isdigit',\n",
       " 'IPython.release.kernel_protocol_version.isnumeric',\n",
       " 'IPython.release.kernel_protocol_version.isalpha',\n",
       " 'IPython.release.kernel_protocol_version.isalnum',\n",
       " 'IPython.release.kernel_protocol_version.isidentifier',\n",
       " 'IPython.release.kernel_protocol_version.isprintable',\n",
       " 'IPython.release.kernel_protocol_version.zfill',\n",
       " 'IPython.release.kernel_protocol_version.format',\n",
       " 'IPython.release.kernel_protocol_version.format_map',\n",
       " 'IPython.release.kernel_protocol_version.maketrans',\n",
       " 'IPython.paths.IPython.embed_kernel',\n",
       " 'IPython.paths.IPython.start_kernel',\n",
       " 'IPython.sys.displayhook.shell.kernel',\n",
       " 'IPython.sys.displayhook.shell.keepkernel_on_exit',\n",
       " 'IPython.sys.displayhook.parent.kernel',\n",
       " 'IPython.sys.displayhook.parent.keepkernel_on_exit',\n",
       " 'IPython.core.release.kernel_protocol_version_info.index',\n",
       " 'IPython.core.release.kernel_protocol_version_info.count',\n",
       " 'IPython.core.release.kernel_protocol_version.encode',\n",
       " 'IPython.core.release.kernel_protocol_version.replace',\n",
       " 'IPython.core.release.kernel_protocol_version.split',\n",
       " 'IPython.core.release.kernel_protocol_version.rsplit',\n",
       " 'IPython.core.release.kernel_protocol_version.join',\n",
       " 'IPython.core.release.kernel_protocol_version.capitalize',\n",
       " 'IPython.core.release.kernel_protocol_version.casefold',\n",
       " 'IPython.core.release.kernel_protocol_version.title',\n",
       " 'IPython.core.release.kernel_protocol_version.center',\n",
       " 'IPython.core.release.kernel_protocol_version.count',\n",
       " 'IPython.core.release.kernel_protocol_version.expandtabs',\n",
       " 'IPython.core.release.kernel_protocol_version.find',\n",
       " 'IPython.core.release.kernel_protocol_version.partition',\n",
       " 'IPython.core.release.kernel_protocol_version.index',\n",
       " 'IPython.core.release.kernel_protocol_version.ljust',\n",
       " 'IPython.core.release.kernel_protocol_version.lower',\n",
       " 'IPython.core.release.kernel_protocol_version.lstrip',\n",
       " 'IPython.core.release.kernel_protocol_version.rfind',\n",
       " 'IPython.core.release.kernel_protocol_version.rindex',\n",
       " 'IPython.core.release.kernel_protocol_version.rjust',\n",
       " 'IPython.core.release.kernel_protocol_version.rstrip',\n",
       " 'IPython.core.release.kernel_protocol_version.rpartition',\n",
       " 'IPython.core.release.kernel_protocol_version.splitlines',\n",
       " 'IPython.core.release.kernel_protocol_version.strip',\n",
       " 'IPython.core.release.kernel_protocol_version.swapcase',\n",
       " 'IPython.core.release.kernel_protocol_version.translate',\n",
       " 'IPython.core.release.kernel_protocol_version.upper',\n",
       " 'IPython.core.release.kernel_protocol_version.startswith',\n",
       " 'IPython.core.release.kernel_protocol_version.endswith',\n",
       " 'IPython.core.release.kernel_protocol_version.isascii',\n",
       " 'IPython.core.release.kernel_protocol_version.islower',\n",
       " 'IPython.core.release.kernel_protocol_version.isupper',\n",
       " 'IPython.core.release.kernel_protocol_version.istitle',\n",
       " 'IPython.core.release.kernel_protocol_version.isspace',\n",
       " 'IPython.core.release.kernel_protocol_version.isdecimal',\n",
       " 'IPython.core.release.kernel_protocol_version.isdigit',\n",
       " 'IPython.core.release.kernel_protocol_version.isnumeric',\n",
       " 'IPython.core.release.kernel_protocol_version.isalpha',\n",
       " 'IPython.core.release.kernel_protocol_version.isalnum',\n",
       " 'IPython.core.release.kernel_protocol_version.isidentifier',\n",
       " 'IPython.core.release.kernel_protocol_version.isprintable',\n",
       " 'IPython.core.release.kernel_protocol_version.zfill',\n",
       " 'IPython.core.release.kernel_protocol_version.format',\n",
       " 'IPython.core.release.kernel_protocol_version.format_map',\n",
       " 'IPython.core.release.kernel_protocol_version.maketrans',\n",
       " 'IPython.core.application.release.kernel_protocol_version_info',\n",
       " 'IPython.core.application.release.kernel_protocol_version',\n",
       " 'IPython.core.usage.release.kernel_protocol_version_info',\n",
       " 'IPython.core.usage.release.kernel_protocol_version',\n",
       " 'IPython.core.interactiveshell.IPython.embed_kernel',\n",
       " 'IPython.core.interactiveshell.IPython.start_kernel',\n",
       " 'IPython.utils.sysinfo.release.kernel_protocol_version_info',\n",
       " 'IPython.utils.sysinfo.release.kernel_protocol_version',\n",
       " 'IPython.paths.IPython.release.kernel_protocol_version_info',\n",
       " 'IPython.paths.IPython.release.kernel_protocol_version',\n",
       " 'IPython.terminal.ipapp.release.kernel_protocol_version_info',\n",
       " 'IPython.terminal.ipapp.release.kernel_protocol_version',\n",
       " 'IPython.os.sys.displayhook.shell.kernel',\n",
       " 'IPython.os.sys.displayhook.shell.keepkernel_on_exit',\n",
       " 'IPython.os.sys.displayhook.parent.kernel',\n",
       " 'IPython.os.sys.displayhook.parent.keepkernel_on_exit',\n",
       " 'IPython.sys.displayhook.session.parent.kernel_class',\n",
       " 'IPython.sys.displayhook.session.parent.kernel',\n",
       " 'IPython.sys.displayhook.session.parent.init_kernel',\n",
       " 'IPython.sys.displayhook.session.parent.kernel_name',\n",
       " 'IPython.sys.displayhook.shell.user_module.ipykernel',\n",
       " 'IPython.sys.displayhook.shell.kernel._trait_values',\n",
       " 'IPython.sys.displayhook.shell.kernel._trait_notifiers',\n",
       " 'IPython.sys.displayhook.shell.kernel._trait_validators',\n",
       " 'IPython.sys.displayhook.shell.kernel._cross_validation_lock',\n",
       " 'IPython.sys.displayhook.shell.kernel.shell_handlers',\n",
       " 'IPython.sys.displayhook.shell.kernel.control_handlers',\n",
       " 'IPython.sys.displayhook.shell.kernel.comm_manager',\n",
       " 'IPython.sys.displayhook.shell.kernel.io_loop',\n",
       " 'IPython.sys.displayhook.shell.kernel.msg_queue',\n",
       " 'IPython.sys.displayhook.shell.kernel.saved_sigint_handler',\n",
       " 'IPython.sys.displayhook.shell.kernel._save_getpass',\n",
       " 'IPython.sys.displayhook.shell.kernel.shell',\n",
       " 'IPython.sys.displayhook.shell.kernel.shell_class',\n",
       " 'IPython.sys.displayhook.shell.kernel.use_experimental_completions',\n",
       " 'IPython.sys.displayhook.shell.kernel.user_module',\n",
       " 'IPython.sys.displayhook.shell.kernel._user_module_changed',\n",
       " 'IPython.sys.displayhook.shell.kernel.user_ns',\n",
       " 'IPython.sys.displayhook.shell.kernel._user_ns_changed',\n",
       " 'IPython.sys.displayhook.shell.kernel._sys_raw_input',\n",
       " 'IPython.sys.displayhook.shell.kernel._sys_eval_input',\n",
       " 'IPython.sys.displayhook.shell.kernel.help_links',\n",
       " 'IPython.sys.displayhook.shell.kernel.implementation',\n",
       " 'IPython.sys.displayhook.shell.kernel.implementation_version',\n",
       " 'IPython.sys.displayhook.shell.kernel.language_info',\n",
       " 'IPython.sys.displayhook.shell.kernel.banner',\n",
       " 'IPython.sys.displayhook.shell.kernel.start',\n",
       " 'IPython.sys.displayhook.shell.kernel.set_parent',\n",
       " 'IPython.sys.displayhook.shell.kernel.init_metadata',\n",
       " 'IPython.sys.displayhook.shell.kernel.finish_metadata',\n",
       " 'IPython.sys.displayhook.shell.kernel._forward_input',\n",
       " 'IPython.sys.displayhook.shell.kernel._restore_input',\n",
       " 'IPython.sys.displayhook.shell.kernel.execution_count',\n",
       " 'IPython.sys.displayhook.shell.kernel._cancel_on_sigint',\n",
       " 'IPython.sys.displayhook.shell.kernel.do_execute',\n",
       " 'IPython.sys.displayhook.shell.kernel.do_complete',\n",
       " 'IPython.sys.displayhook.shell.kernel._experimental_do_complete',\n",
       " 'IPython.sys.displayhook.shell.kernel.do_inspect',\n",
       " 'IPython.sys.displayhook.shell.kernel.do_history',\n",
       " 'IPython.sys.displayhook.shell.kernel.do_shutdown',\n",
       " 'IPython.sys.displayhook.shell.kernel.do_is_complete',\n",
       " 'IPython.sys.displayhook.shell.kernel.do_apply',\n",
       " 'IPython.sys.displayhook.shell.kernel.do_clear',\n",
       " 'IPython.sys.displayhook.shell.kernel._trait_default_generators',\n",
       " 'IPython.sys.displayhook.shell.kernel._instance',\n",
       " 'IPython.sys.displayhook.shell.kernel.eventloop',\n",
       " 'IPython.sys.displayhook.shell.kernel._update_eventloop',\n",
       " 'IPython.sys.displayhook.shell.kernel.session',\n",
       " 'IPython.sys.displayhook.shell.kernel.profile_dir',\n",
       " 'IPython.sys.displayhook.shell.kernel.shell_streams',\n",
       " 'IPython.sys.displayhook.shell.kernel.control_stream',\n",
       " 'IPython.sys.displayhook.shell.kernel.iopub_socket',\n",
       " 'IPython.sys.displayhook.shell.kernel.iopub_thread',\n",
       " 'IPython.sys.displayhook.shell.kernel.stdin_socket',\n",
       " 'IPython.sys.displayhook.shell.kernel.log',\n",
       " 'IPython.sys.displayhook.shell.kernel.int_id',\n",
       " 'IPython.sys.displayhook.shell.kernel.ident',\n",
       " 'IPython.sys.displayhook.shell.kernel._default_ident',\n",
       " 'IPython.sys.displayhook.shell.kernel._darwin_app_nap',\n",
       " 'IPython.sys.displayhook.shell.kernel._allow_stdin',\n",
       " 'IPython.sys.displayhook.shell.kernel._parent_header',\n",
       " 'IPython.sys.displayhook.shell.kernel._parent_ident',\n",
       " 'IPython.sys.displayhook.shell.kernel._execute_sleep',\n",
       " 'IPython.sys.displayhook.shell.kernel._poll_interval',\n",
       " 'IPython.sys.displayhook.shell.kernel.stop_on_error_timeout',\n",
       " 'IPython.sys.displayhook.shell.kernel._shutdown_message',\n",
       " 'IPython.sys.displayhook.shell.kernel._recorded_ports',\n",
       " 'IPython.sys.displayhook.shell.kernel.aborted',\n",
       " 'IPython.sys.displayhook.shell.kernel.msg_types',\n",
       " 'IPython.sys.displayhook.shell.kernel.control_msg_types',\n",
       " 'IPython.sys.displayhook.shell.kernel.dispatch_control',\n",
       " 'IPython.sys.displayhook.shell.kernel.should_handle',\n",
       " 'IPython.sys.displayhook.shell.kernel.dispatch_shell',\n",
       " 'IPython.sys.displayhook.shell.kernel.pre_handler_hook']"
      ]
     },
     "execution_count": 64,
     "metadata": {},
     "output_type": "execute_result"
    }
   ],
   "source": [
    "ret = search_term('kernel', imethods)\n",
    "print(len(ret))\n",
    "ret[:200]"
   ]
  },
  {
   "cell_type": "code",
   "execution_count": 55,
   "metadata": {},
   "outputs": [],
   "source": [
    "import ipykernel"
   ]
  },
  {
   "cell_type": "code",
   "execution_count": 58,
   "metadata": {},
   "outputs": [],
   "source": [
    "import jupyter_client"
   ]
  },
  {
   "cell_type": "code",
   "execution_count": 62,
   "metadata": {},
   "outputs": [
    {
     "data": {
      "text/plain": [
       "'{\\n  \"shell_port\": 51463,\\n  \"iopub_port\": 51464,\\n  \"stdin_port\": 51465,\\n  \"control_port\": 51466,\\n  \"hb_port\": 51467,\\n  \"ip\": \"127.0.0.1\",\\n  \"key\": \"705cd60f-ab7fccbd37e2ad29b64d4324\",\\n  \"transport\": \"tcp\",\\n  \"signature_scheme\": \"hmac-sha256\",\\n  \"kernel_name\": \"\"\\n}'"
      ]
     },
     "execution_count": 62,
     "metadata": {},
     "output_type": "execute_result"
    }
   ],
   "source": [
    "with open(jupyter_client.find_connection_file(), 'r') as f:\n",
    "    lines = f.read()\n",
    "lines"
   ]
  },
  {
   "cell_type": "code",
   "execution_count": 57,
   "metadata": {},
   "outputs": [
    {
     "data": {
      "text/plain": [
       "'C:\\\\Users\\\\wsutt\\\\Desktop\\\\cpr\\\\misc\\\\books\\\\InvestigateJupyterPackages.ipynb'"
      ]
     },
     "execution_count": 57,
     "metadata": {},
     "output_type": "execute_result"
    }
   ],
   "source": [
    "ipykernel.find_connection_file(a)"
   ]
  },
  {
   "cell_type": "code",
   "execution_count": 37,
   "metadata": {},
   "outputs": [
    {
     "data": {
      "text/plain": [
       "[]"
      ]
     },
     "execution_count": 37,
     "metadata": {},
     "output_type": "execute_result"
    }
   ],
   "source": [
    "[e for e in ret if 'notebook' in e.lower()]"
   ]
  },
  {
   "cell_type": "code",
   "execution_count": 40,
   "metadata": {},
   "outputs": [
    {
     "name": "stdout",
     "output_type": "stream",
     "text": [
      "3751\n"
     ]
    },
    {
     "data": {
      "text/plain": [
       "['IPython.sys.displayhook._load_config',\n",
       " 'IPython.core.payloadpage.install_payload_page',\n",
       " 'IPython.terminal.ipapp.load_default_config',\n",
       " 'IPython.terminal.embed.load_default_config',\n",
       " 'IPython.extensions.storemagic.load_ipython_extension',\n",
       " 'IPython.os.sys.displayhook._load_config',\n",
       " 'IPython.sys.displayhook.session._load_config',\n",
       " 'IPython.sys.displayhook.shell.history_load_length',\n",
       " 'IPython.sys.displayhook.shell.payload_manager',\n",
       " 'IPython.sys.displayhook.shell._load_config']"
      ]
     },
     "execution_count": 40,
     "metadata": {},
     "output_type": "execute_result"
    }
   ],
   "source": [
    "ret = search_term('load_', all_methods)\n",
    "print(len(ret))\n",
    "ret[:10]"
   ]
  },
  {
   "cell_type": "code",
   "execution_count": 42,
   "metadata": {
    "scrolled": false
   },
   "outputs": [
    {
     "name": "stdout",
     "output_type": "stream",
     "text": [
      "80\n"
     ]
    },
    {
     "data": {
      "text/plain": [
       "['IPython.core.magics.packaging._is_conda_environment',\n",
       " 'IPython.core.magics.packaging._get_conda_executable',\n",
       " 'IPython.core.magics.packaging.CONDA_COMMANDS_REQUIRING_PREFIX',\n",
       " 'IPython.core.magics.packaging.CONDA_COMMANDS_REQUIRING_YES',\n",
       " 'IPython.core.magics.packaging.CONDA_ENV_FLAGS',\n",
       " 'IPython.core.magics.packaging.CONDA_YES_FLAGS',\n",
       " 'IPython.core.magics.packaging.CONDA_COMMANDS_REQUIRING_PREFIX.add',\n",
       " 'IPython.core.magics.packaging.CONDA_COMMANDS_REQUIRING_PREFIX.clear',\n",
       " 'IPython.core.magics.packaging.CONDA_COMMANDS_REQUIRING_PREFIX.copy',\n",
       " 'IPython.core.magics.packaging.CONDA_COMMANDS_REQUIRING_PREFIX.discard']"
      ]
     },
     "execution_count": 42,
     "metadata": {},
     "output_type": "execute_result"
    }
   ],
   "source": [
    "ret = search_term('conda', all_methods)\n",
    "print(len(ret))\n",
    "ret[:10]"
   ]
  },
  {
   "cell_type": "code",
   "execution_count": null,
   "metadata": {},
   "outputs": [],
   "source": []
  }
 ],
 "metadata": {
  "kernelspec": {
   "display_name": "Python 3",
   "language": "python",
   "name": "python3"
  },
  "language_info": {
   "codemirror_mode": {
    "name": "ipython",
    "version": 3
   },
   "file_extension": ".py",
   "mimetype": "text/x-python",
   "name": "python",
   "nbconvert_exporter": "python",
   "pygments_lexer": "ipython3",
   "version": "3.7.2"
  }
 },
 "nbformat": 4,
 "nbformat_minor": 2
}
