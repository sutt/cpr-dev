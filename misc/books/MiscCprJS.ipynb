{
 "cells": [
  {
   "cell_type": "markdown",
   "metadata": {},
   "source": [
    "### Useful Functionality through Simple example\n",
    "Methods executing from inside `cpr.py` from the active notebook, can communicate with browser/DOM methods controlling the notebook's frontend."
   ]
  },
  {
   "cell_type": "code",
   "execution_count": 1,
   "metadata": {},
   "outputs": [
    {
     "data": {
      "application/javascript": [
       "\n",
       "IPython.notebook.kernel.execute(\"myvar=66\");\n"
      ],
      "text/plain": [
       "<IPython.core.display.Javascript object>"
      ]
     },
     "metadata": {},
     "output_type": "display_data"
    }
   ],
   "source": [
    "import sys\n",
    "sys.path.append('../../')\n",
    "%reload_ext autoreload\n",
    "%autoreload 2\n",
    "from cpr import misc"
   ]
  },
  {
   "cell_type": "markdown",
   "metadata": {},
   "source": [
    "### Execute JS from python"
   ]
  },
  {
   "cell_type": "code",
   "execution_count": 2,
   "metadata": {},
   "outputs": [
    {
     "name": "stdout",
     "output_type": "stream",
     "text": [
      "see devtools console for output\n"
     ]
    },
    {
     "data": {
      "application/javascript": [
       "console.log(\"demo_js\");"
      ],
      "text/plain": [
       "<IPython.core.display.Javascript object>"
      ]
     },
     "metadata": {},
     "output_type": "display_data"
    }
   ],
   "source": [
    "misc.demo_js()"
   ]
  },
  {
   "cell_type": "markdown",
   "metadata": {},
   "source": [
    "### JS -> python \n",
    "Execute arbitrary code in the notebook's kernel.\n",
    "Note: the notebook's kernel remains un-changed by any other notebook level js code"
   ]
  },
  {
   "cell_type": "code",
   "execution_count": 3,
   "metadata": {},
   "outputs": [
    {
     "data": {
      "application/javascript": [
       "\n",
       "IPython.notebook.kernel.execute(\"a=1\");\n",
       "IPython.notebook.kernel.execute(\"print(f'the value of `a` is : {a}`\");\n"
      ],
      "text/plain": [
       "<IPython.core.display.Javascript object>"
      ]
     },
     "metadata": {},
     "output_type": "display_data"
    }
   ],
   "source": [
    "misc.demo_js_to_python()"
   ]
  },
  {
   "cell_type": "code",
   "execution_count": 4,
   "metadata": {},
   "outputs": [
    {
     "data": {
      "text/plain": [
       "1"
      ]
     },
     "execution_count": 4,
     "metadata": {},
     "output_type": "execute_result"
    }
   ],
   "source": [
    "# the variable a is created in js and then passed into this kernel\n",
    "a"
   ]
  },
  {
   "cell_type": "markdown",
   "metadata": {},
   "source": [
    "### The Promise Pattern: for synchronous execution"
   ]
  },
  {
   "cell_type": "code",
   "execution_count": 5,
   "metadata": {},
   "outputs": [
    {
     "name": "stdout",
     "output_type": "stream",
     "text": [
      "see devtools console for printout\n"
     ]
    },
    {
     "data": {
      "application/javascript": [
       "\n",
       "    function demo() {\n",
       "        function lots(){\n",
       "            var x = 1;\n",
       "            for (var i=0; i<1000000000; i++) {\n",
       "                x += i\n",
       "            }\n",
       "        }\n",
       "        Promise.resolve(\n",
       "            lots()\n",
       "            ).then(function(){\n",
       "                return console.log('printing out with ~1 sec delay?')\n",
       "                }\n",
       "            );\n",
       "        }\n",
       "    demo();\n",
       "    "
      ],
      "text/plain": [
       "<IPython.core.display.Javascript object>"
      ]
     },
     "metadata": {},
     "output_type": "display_data"
    }
   ],
   "source": [
    "misc.promise_pattern()"
   ]
  },
  {
   "cell_type": "markdown",
   "metadata": {},
   "source": [
    "### Demonstrate blocking of display(Javascript())"
   ]
  },
  {
   "cell_type": "code",
   "execution_count": 6,
   "metadata": {},
   "outputs": [
    {
     "data": {
      "text/plain": [
       "1"
      ]
     },
     "execution_count": 6,
     "metadata": {},
     "output_type": "execute_result"
    }
   ],
   "source": [
    "a"
   ]
  },
  {
   "cell_type": "code",
   "execution_count": 7,
   "metadata": {
    "scrolled": false
   },
   "outputs": [
    {
     "data": {
      "application/javascript": [
       "\n",
       "    \n",
       "    var biggie = 0;\n",
       "    \n",
       "    function demo() {\n",
       "        function lots(){\n",
       "            var x = 1;\n",
       "            for (var i=0; i<1000000000; i++) {\n",
       "                x += i\n",
       "            }\n",
       "            biggie = x\n",
       "        }\n",
       "        Promise.resolve(\n",
       "            lots()\n",
       "            ).then(function(){\n",
       "                return secondFunction();\n",
       "                }\n",
       "            ).then(function(){\n",
       "                return thirdFunction();\n",
       "                }\n",
       "            );\n",
       "            \n",
       "            function secondFunction() {\n",
       "                IPython.notebook.kernel.execute(\"a=\"+ biggie);\n",
       "            }\n",
       "            function thirdFunction() {\n",
       "                  console.log('printing out with ~1 sec delay and setting a to bigges value')\n",
       "            }\n",
       "        }\n",
       "    \n",
       "    demo();\n",
       "    "
      ],
      "text/plain": [
       "<IPython.core.display.Javascript object>"
      ]
     },
     "metadata": {},
     "output_type": "display_data"
    },
    {
     "name": "stdout",
     "output_type": "stream",
     "text": [
      "done\n",
      "1\n"
     ]
    }
   ],
   "source": [
    "# This only works when running it twice, why?\n",
    "# because biggie doesn't get past to secondFunction?\n",
    "misc.promise_set_print()\n",
    "print(a)"
   ]
  },
  {
   "cell_type": "code",
   "execution_count": 8,
   "metadata": {},
   "outputs": [
    {
     "data": {
      "text/plain": [
       "499999999067109000"
      ]
     },
     "execution_count": 8,
     "metadata": {},
     "output_type": "execute_result"
    }
   ],
   "source": [
    "a"
   ]
  }
 ],
 "metadata": {
  "kernelspec": {
   "display_name": "Python [conda env:root] *",
   "language": "python",
   "name": "conda-root-py"
  },
  "language_info": {
   "codemirror_mode": {
    "name": "ipython",
    "version": 3
   },
   "file_extension": ".py",
   "mimetype": "text/x-python",
   "name": "python",
   "nbconvert_exporter": "python",
   "pygments_lexer": "ipython3",
   "version": "3.7.4"
  }
 },
 "nbformat": 4,
 "nbformat_minor": 2
}
