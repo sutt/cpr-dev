{
 "cells": [
  {
   "cell_type": "markdown",
   "metadata": {},
   "source": [
    "### How to use the values set in python-kernel from js \"immediately\" in the same jupyter-cell\n",
    "\n",
    "There is a problem of using a value set in python kernel from js kernel.execute() in the cell where that command is called, or in a loaded method from an external module. Either way, the js \"doesn't set variables in python\" until all the input cells have been run. This could be an issue of \"context\", \"scope\", etc, but it's not pure timing as throwing in sleeps or threads doesn't help, it's more likely due to the way ipython executes calls.\n",
    "\n",
    "This is most important for passing in notebook name and notebook path, which can only be established via js. It's also useful for establishing timing between js-based events (e.g. `save_notebook` and `reload_notebook`) with python-based events (e.g. `merge.give_answer()`, `gitcomm.push_answer()`, etc).\n",
    "\n",
    "In this notebook, we establish a way to replicate the problem, by setting a variable three times and seeing which one executes \"last\" by checking it's value. We also show a variety of ways we attempt to fix it. The helper functions are all in `cpr/misc.py`\n",
    "\n",
    "One possible way to fix in is with the `ipython_blocking` package, but so far, no luck.\n",
    "\n",
    "Another possible way is to use jupyter's messaging module (most often used for widgets).\n",
    "\n",
    "Right now, we get around this by setting the notebook name variable when we load the modules in cpr/, specifically in `cpr.nbx`."
   ]
  },
  {
   "cell_type": "code",
   "execution_count": 2,
   "metadata": {},
   "outputs": [
    {
     "data": {
      "application/javascript": [
       "\n",
       "IPython.notebook.kernel.execute(\"myvar=66\");\n"
      ],
      "text/plain": [
       "<IPython.core.display.Javascript object>"
      ]
     },
     "metadata": {},
     "output_type": "display_data"
    }
   ],
   "source": [
    "import sys, time, os\n",
    "sys.path.append('../../')\n",
    "%reload_ext autoreload\n",
    "%autoreload 2\n",
    "from cpr import misc"
   ]
  },
  {
   "cell_type": "markdown",
   "metadata": {},
   "source": [
    "##### Determine order of execution\n",
    "Scenario 1: \n",
    " - set before calling `a=0`\n",
    " - set within the module call `a=99`\n",
    " - get within calling input\n",
    " - set within calling input `a=-77`\n",
    " - get in next cell\n",
    " \n",
    "Notice how the output of final cell is `a=99` even though in code execution, that should have been the second set."
   ]
  },
  {
   "cell_type": "code",
   "execution_count": 3,
   "metadata": {},
   "outputs": [],
   "source": [
    "a = 0"
   ]
  },
  {
   "cell_type": "code",
   "execution_count": 4,
   "metadata": {},
   "outputs": [
    {
     "data": {
      "application/javascript": [
       "\n",
       "IPython.notebook.kernel.execute(\"a=99\");\n"
      ],
      "text/plain": [
       "<IPython.core.display.Javascript object>"
      ]
     },
     "metadata": {},
     "output_type": "display_data"
    },
    {
     "name": "stdout",
     "output_type": "stream",
     "text": [
      "a after call to demo_js_scope: 0\n"
     ]
    }
   ],
   "source": [
    "misc.demo_js_scope_a()\n",
    "print(f'a after call to demo_js_scope: {a}')\n",
    "a = -77"
   ]
  },
  {
   "cell_type": "code",
   "execution_count": 5,
   "metadata": {},
   "outputs": [
    {
     "data": {
      "text/plain": [
       "99"
      ]
     },
     "execution_count": 5,
     "metadata": {},
     "output_type": "execute_result"
    }
   ],
   "source": [
    "a"
   ]
  },
  {
   "cell_type": "markdown",
   "metadata": {},
   "source": [
    "##### Exception blocks js execution\n",
    "An exception which occurs before cell is over prevents `display(Javascript(js))` from exectuing"
   ]
  },
  {
   "cell_type": "code",
   "execution_count": 6,
   "metadata": {},
   "outputs": [],
   "source": [
    "b = 0"
   ]
  },
  {
   "cell_type": "code",
   "execution_count": 7,
   "metadata": {},
   "outputs": [
    {
     "data": {
      "application/javascript": [
       "\n",
       "IPython.notebook.kernel.execute(\"b=99\");\n"
      ],
      "text/plain": [
       "<IPython.core.display.Javascript object>"
      ]
     },
     "metadata": {},
     "output_type": "display_data"
    },
    {
     "name": "stdout",
     "output_type": "stream",
     "text": [
      "b after call : 0\n"
     ]
    },
    {
     "ename": "Exception",
     "evalue": "blocking exception",
     "output_type": "error",
     "traceback": [
      "\u001b[1;31m---------------------------------------------------------------------------\u001b[0m",
      "\u001b[1;31mException\u001b[0m                                 Traceback (most recent call last)",
      "\u001b[1;32m<ipython-input-7-4479e13198a6>\u001b[0m in \u001b[0;36m<module>\u001b[1;34m\u001b[0m\n\u001b[0;32m      2\u001b[0m \u001b[0mprint\u001b[0m\u001b[1;33m(\u001b[0m\u001b[1;34mf'b after call : {b}'\u001b[0m\u001b[1;33m)\u001b[0m\u001b[1;33m\u001b[0m\u001b[1;33m\u001b[0m\u001b[0m\n\u001b[0;32m      3\u001b[0m \u001b[0mb\u001b[0m \u001b[1;33m=\u001b[0m \u001b[1;33m-\u001b[0m\u001b[1;36m77\u001b[0m\u001b[1;33m\u001b[0m\u001b[1;33m\u001b[0m\u001b[0m\n\u001b[1;32m----> 4\u001b[1;33m \u001b[1;32mraise\u001b[0m \u001b[0mException\u001b[0m\u001b[1;33m(\u001b[0m\u001b[1;34m'blocking exception'\u001b[0m\u001b[1;33m)\u001b[0m\u001b[1;33m\u001b[0m\u001b[1;33m\u001b[0m\u001b[0m\n\u001b[0m",
      "\u001b[1;31mException\u001b[0m: blocking exception"
     ]
    }
   ],
   "source": [
    "misc.demo_js_scope_b() # should set b to 99\n",
    "print(f'b after call : {b}')\n",
    "b = -77\n",
    "raise Exception('blocking exception')"
   ]
  },
  {
   "cell_type": "code",
   "execution_count": 8,
   "metadata": {},
   "outputs": [
    {
     "data": {
      "text/plain": [
       "-77"
      ]
     },
     "execution_count": 8,
     "metadata": {},
     "output_type": "execute_result"
    }
   ],
   "source": [
    "b"
   ]
  },
  {
   "cell_type": "markdown",
   "metadata": {},
   "source": [
    "##### Verify the pattern we think\n",
    "multiple calls to display() don't help with exception block"
   ]
  },
  {
   "cell_type": "code",
   "execution_count": 10,
   "metadata": {},
   "outputs": [],
   "source": [
    "c = 0"
   ]
  },
  {
   "cell_type": "code",
   "execution_count": 11,
   "metadata": {},
   "outputs": [
    {
     "data": {
      "application/javascript": [
       "\n",
       "IPython.notebook.kernel.execute(\"c=66\");\n"
      ],
      "text/plain": [
       "<IPython.core.display.Javascript object>"
      ]
     },
     "metadata": {},
     "output_type": "display_data"
    },
    {
     "name": "stdout",
     "output_type": "stream",
     "text": [
      "c after call : 0\n"
     ]
    },
    {
     "data": {
      "application/javascript": [
       "\n",
       "IPython.notebook.kernel.execute(\"c=22\");\n"
      ],
      "text/plain": [
       "<IPython.core.display.Javascript object>"
      ]
     },
     "metadata": {},
     "output_type": "display_data"
    },
    {
     "name": "stdout",
     "output_type": "stream",
     "text": [
      "c after call : 11\n"
     ]
    },
    {
     "ename": "Exception",
     "evalue": "blocking exception",
     "output_type": "error",
     "traceback": [
      "\u001b[1;31m---------------------------------------------------------------------------\u001b[0m",
      "\u001b[1;31mException\u001b[0m                                 Traceback (most recent call last)",
      "\u001b[1;32m<ipython-input-11-b5898939066f>\u001b[0m in \u001b[0;36m<module>\u001b[1;34m\u001b[0m\n\u001b[0;32m      4\u001b[0m \u001b[0mmisc\u001b[0m\u001b[1;33m.\u001b[0m\u001b[0mdemo_js_scope_c\u001b[0m\u001b[1;33m(\u001b[0m\u001b[1;36m22\u001b[0m\u001b[1;33m)\u001b[0m\u001b[1;33m\u001b[0m\u001b[1;33m\u001b[0m\u001b[0m\n\u001b[0;32m      5\u001b[0m \u001b[0mprint\u001b[0m\u001b[1;33m(\u001b[0m\u001b[1;34mf'c after call : {c}'\u001b[0m\u001b[1;33m)\u001b[0m\u001b[1;33m\u001b[0m\u001b[1;33m\u001b[0m\u001b[0m\n\u001b[1;32m----> 6\u001b[1;33m \u001b[1;32mraise\u001b[0m \u001b[0mException\u001b[0m\u001b[1;33m(\u001b[0m\u001b[1;34m'blocking exception'\u001b[0m\u001b[1;33m)\u001b[0m\u001b[1;33m\u001b[0m\u001b[1;33m\u001b[0m\u001b[0m\n\u001b[0m\u001b[0;32m      7\u001b[0m \u001b[0mmisc\u001b[0m\u001b[1;33m.\u001b[0m\u001b[0mdemo_js_scope_c\u001b[0m\u001b[1;33m(\u001b[0m\u001b[1;36m62\u001b[0m\u001b[1;33m)\u001b[0m\u001b[1;33m\u001b[0m\u001b[1;33m\u001b[0m\u001b[0m\n\u001b[0;32m      8\u001b[0m \u001b[0mprint\u001b[0m\u001b[1;33m(\u001b[0m\u001b[1;34mf'c after call : {c}'\u001b[0m\u001b[1;33m)\u001b[0m\u001b[1;33m\u001b[0m\u001b[1;33m\u001b[0m\u001b[0m\n",
      "\u001b[1;31mException\u001b[0m: blocking exception"
     ]
    }
   ],
   "source": [
    "misc.demo_js_scope_c(66)\n",
    "print(f'c after call : {c}')\n",
    "c= 11\n",
    "misc.demo_js_scope_c(22)\n",
    "print(f'c after call : {c}')\n",
    "raise Exception('blocking exception')\n",
    "misc.demo_js_scope_c(62)\n",
    "print(f'c after call : {c}')\n",
    "c"
   ]
  },
  {
   "cell_type": "code",
   "execution_count": 12,
   "metadata": {},
   "outputs": [
    {
     "data": {
      "text/plain": [
       "11"
      ]
     },
     "execution_count": 12,
     "metadata": {},
     "output_type": "execute_result"
    }
   ],
   "source": [
    "c"
   ]
  },
  {
   "cell_type": "markdown",
   "metadata": {},
   "source": [
    "##### Try using the method here:\n",
    "https://github.com/kafonek/ipython_blocking/blob/master/ipython_blocking/ipython_blocking.py"
   ]
  },
  {
   "cell_type": "code",
   "execution_count": 59,
   "metadata": {},
   "outputs": [],
   "source": [
    "ip = get_ipython()"
   ]
  },
  {
   "cell_type": "code",
   "execution_count": 60,
   "metadata": {},
   "outputs": [
    {
     "data": {
      "text/plain": [
       "<Future finished result=None>"
      ]
     },
     "execution_count": 60,
     "metadata": {},
     "output_type": "execute_result"
    }
   ],
   "source": [
    "ip.kernel.do_one_iteration()"
   ]
  },
  {
   "cell_type": "code",
   "execution_count": 73,
   "metadata": {},
   "outputs": [],
   "source": [
    "e = 0"
   ]
  },
  {
   "cell_type": "code",
   "execution_count": 74,
   "metadata": {},
   "outputs": [
    {
     "data": {
      "application/javascript": [
       "\n",
       "IPython.notebook.kernel.execute(\"e=99\");\n"
      ],
      "text/plain": [
       "<IPython.core.display.Javascript object>"
      ]
     },
     "metadata": {},
     "output_type": "display_data"
    },
    {
     "name": "stdout",
     "output_type": "stream",
     "text": [
      "e after call to demo_js_scope: 0\n"
     ]
    }
   ],
   "source": [
    "misc.demo_js_scope_e()\n",
    "print(f'e after call to demo_js_scope: {e}')\n",
    "e = -77"
   ]
  },
  {
   "cell_type": "code",
   "execution_count": 76,
   "metadata": {},
   "outputs": [
    {
     "data": {
      "text/plain": [
       "99"
      ]
     },
     "execution_count": 76,
     "metadata": {},
     "output_type": "execute_result"
    }
   ],
   "source": [
    "e"
   ]
  },
  {
   "cell_type": "markdown",
   "metadata": {},
   "source": [
    "##### Use threading to attempt to bypass this problem\n",
    "It still doesn't work: careful - if you run it twice, \"it works\""
   ]
  },
  {
   "cell_type": "code",
   "execution_count": 9,
   "metadata": {},
   "outputs": [],
   "source": [
    "import sys, time, os\n",
    "sys.path.append('../../')\n",
    "%reload_ext autoreload\n",
    "%autoreload 2\n",
    "from cpr import misc"
   ]
  },
  {
   "cell_type": "code",
   "execution_count": 10,
   "metadata": {},
   "outputs": [],
   "source": [
    "import time\n",
    "import threading\n",
    "import queue"
   ]
  },
  {
   "cell_type": "code",
   "execution_count": 11,
   "metadata": {},
   "outputs": [],
   "source": [
    "d = 0"
   ]
  },
  {
   "cell_type": "code",
   "execution_count": 52,
   "metadata": {},
   "outputs": [],
   "source": [
    "q = queue.Queue()\n",
    "q.put(0)"
   ]
  },
  {
   "cell_type": "code",
   "execution_count": 53,
   "metadata": {},
   "outputs": [
    {
     "data": {
      "text/plain": [
       "0"
      ]
     },
     "execution_count": 53,
     "metadata": {},
     "output_type": "execute_result"
    }
   ],
   "source": [
    "q.get()"
   ]
  },
  {
   "cell_type": "code",
   "execution_count": 54,
   "metadata": {},
   "outputs": [
    {
     "data": {
      "text/plain": [
       "True"
      ]
     },
     "execution_count": 54,
     "metadata": {},
     "output_type": "execute_result"
    }
   ],
   "source": [
    "q.empty()"
   ]
  },
  {
   "cell_type": "code",
   "execution_count": 58,
   "metadata": {},
   "outputs": [
    {
     "data": {
      "application/javascript": [
       "\n",
       "IPython.notebook.kernel.execute(\"q.put(99)\");\n"
      ],
      "text/plain": [
       "<IPython.core.display.Javascript object>"
      ]
     },
     "metadata": {},
     "output_type": "display_data"
    },
    {
     "name": "stdout",
     "output_type": "stream",
     "text": [
      "starting\n",
      "d set\n",
      "done\n"
     ]
    }
   ],
   "source": [
    "def run_d_99():\n",
    "    misc.demo_js_scope_q()\n",
    "    print('d set')\n",
    "    \n",
    "def poll_d(q):\n",
    "    print('starting')\n",
    "    for i in range(1_000):\n",
    "        time.sleep(.001)\n",
    "        if q.empty(): continue\n",
    "            \n",
    "        print('q not empty')\n",
    "        print(q.get())\n",
    "        \n",
    "        return\n",
    "\n",
    "t0 = threading.Thread(target=run_d_99)\n",
    "t1 = threading.Thread(target=poll_d, args=(q,))\n",
    "\n",
    "t0.start()\n",
    "t1.start()\n",
    "\n",
    "# t0.join()\n",
    "t1.join()\n",
    "\n",
    "print('done')"
   ]
  },
  {
   "cell_type": "code",
   "execution_count": 42,
   "metadata": {},
   "outputs": [
    {
     "data": {
      "text/plain": [
       "99"
      ]
     },
     "execution_count": 42,
     "metadata": {},
     "output_type": "execute_result"
    }
   ],
   "source": [
    "d"
   ]
  },
  {
   "cell_type": "markdown",
   "metadata": {},
   "source": [
    "##### Example Threading"
   ]
  },
  {
   "cell_type": "code",
   "execution_count": 36,
   "metadata": {},
   "outputs": [
    {
     "name": "stdout",
     "output_type": "stream",
     "text": [
      "Done\n",
      "Thread 2 slept for 1 secondsThread 6 slept for 1 seconds\n",
      "\n",
      "Thread 3 slept for 3 seconds\n",
      "Thread 9 slept for 4 seconds\n",
      "Thread 1 slept for 6 seconds\n",
      "Thread 8 slept for 8 seconds\n",
      "Thread 4 slept for 9 seconds\n",
      "Thread 7 slept for 9 seconds\n",
      "Thread 5 slept for 10 seconds\n"
     ]
    }
   ],
   "source": [
    "import threading\n",
    "from random import randint\n",
    "from time import sleep\n",
    "\n",
    "\n",
    "def print_number(number):\n",
    "\n",
    "    # Sleeps a random 1 to 10 seconds\n",
    "    rand_int_var = randint(1, 10)\n",
    "    sleep(rand_int_var)\n",
    "    print( \"Thread \" + str(number) + \" slept for \" + str(rand_int_var) + \" seconds\")\n",
    "\n",
    "thread_list = []\n",
    "\n",
    "for i in range(1, 10):\n",
    "\n",
    "    # Instantiates the thread\n",
    "    # (i) does not make a sequence, so (i,)\n",
    "    t = threading.Thread(target=print_number, args=(i,))\n",
    "    # Sticks the thread in a list so that it remains accessible\n",
    "    thread_list.append(t)\n",
    "\n",
    "# Starts threads\n",
    "for thread in thread_list:\n",
    "    thread.start()\n",
    "\n",
    "# This blocks the calling thread until the thread whose join() method is called is terminated.\n",
    "# From http://docs.python.org/2/library/threading.html#thread-objects\n",
    "# for thread in thread_list:\n",
    "#     thread.join()\n",
    "\n",
    "# Demonstrates that the main process waited for threads to complete\n",
    "print (\"Done\")"
   ]
  },
  {
   "cell_type": "code",
   "execution_count": null,
   "metadata": {},
   "outputs": [],
   "source": []
  }
 ],
 "metadata": {
  "kernelspec": {
   "display_name": "Python [conda env:root] *",
   "language": "python",
   "name": "conda-root-py"
  },
  "language_info": {
   "codemirror_mode": {
    "name": "ipython",
    "version": 3
   },
   "file_extension": ".py",
   "mimetype": "text/x-python",
   "name": "python",
   "nbconvert_exporter": "python",
   "pygments_lexer": "ipython3",
   "version": "3.7.4"
  }
 },
 "nbformat": 4,
 "nbformat_minor": 2
}
