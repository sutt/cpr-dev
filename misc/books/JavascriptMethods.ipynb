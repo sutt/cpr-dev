{
 "cells": [
  {
   "cell_type": "markdown",
   "metadata": {},
   "source": [
    "### Javascript methods\n",
    "\n",
    "The `IPython` package allows us to execute arbitrary javascript within the notebook's window through `IPython.display.Javascript(<code>)`\n",
    "\n",
    "This allows us to reload the notebook and other useful methods for cpr.\n",
    "\n",
    "Ideally, we'd like to use python methods, but sometimes they are not available (?)"
   ]
  },
  {
   "cell_type": "code",
   "execution_count": 3,
   "metadata": {},
   "outputs": [],
   "source": [
    "import IPython"
   ]
  },
  {
   "cell_type": "code",
   "execution_count": 17,
   "metadata": {},
   "outputs": [],
   "source": [
    "from IPython.display import Javascript\n",
    "from IPython import display"
   ]
  },
  {
   "cell_type": "markdown",
   "metadata": {},
   "source": [
    "##### Refresh Page\n",
    "This is useful for getting a .ipynb file that has been overwritten by git pull/merge to be viewable in this window.\n",
    "\n",
    "Unfortunately it's quite clunky:\n",
    " - it requires the user to click a UI box (chrome based app)\n",
    " - it removes focus and scroll from active cell and scroll position"
   ]
  },
  {
   "cell_type": "code",
   "execution_count": null,
   "metadata": {},
   "outputs": [],
   "source": [
    "Javascript('window.location.reload()')"
   ]
  },
  {
   "cell_type": "markdown",
   "metadata": {},
   "source": [
    "##### Calling Javascript from package\n",
    "Need to use `IPython.display.display()` to execute the Javascript object when using it in a .py module. \n",
    "\n",
    "The reason is works in Jupyter is because it's automatically sent to that class when it's the last statement in the cell and executed."
   ]
  },
  {
   "cell_type": "code",
   "execution_count": 19,
   "metadata": {},
   "outputs": [
    {
     "data": {
      "application/javascript": [
       "console.log('like this when calling in an imported function')"
      ],
      "text/plain": [
       "<IPython.core.display.Javascript object>"
      ]
     },
     "metadata": {},
     "output_type": "display_data"
    }
   ],
   "source": [
    "msg = '''console.log('like this when calling in an imported function')'''\n",
    "display.display(Javascript(msg))"
   ]
  },
  {
   "cell_type": "markdown",
   "metadata": {},
   "source": [
    "##### Get name of this notebook\n",
    "\n",
    "in jupyter, `__file__` isn't available and AFAIK there's no good way to get the name of the file you are currently editing through python. Below we use javascript to get the name through a hack.\n",
    "\n",
    "This is useful for only adding/committing this file instead of supplementary changes within that repository.\n",
    "\n",
    "how to return this information back to python code?"
   ]
  },
  {
   "cell_type": "code",
   "execution_count": 16,
   "metadata": {},
   "outputs": [
    {
     "data": {
      "application/javascript": [
       "\n",
       "var kernel = IPython.notebook.kernel;\n",
       "var thename = window.document.getElementById(\"notebook_name\").innerHTML;\n",
       "var command = \"theNotebook = \" + \"'\"+thename+\"'\";\n",
       "console.warn(command)\n",
       "kernel.execute(command);\n"
      ],
      "text/plain": [
       "<IPython.core.display.Javascript object>"
      ]
     },
     "execution_count": 16,
     "metadata": {},
     "output_type": "execute_result"
    }
   ],
   "source": [
    "js = '''\n",
    "var kernel = IPython.notebook.kernel;\n",
    "var thename = window.document.getElementById(\"notebook_name\").innerHTML;\n",
    "var command = \"theNotebook = \" + \"'\"+thename+\"'\";\n",
    "console.warn(command)\n",
    "kernel.execute(command);\n",
    "'''\n",
    "\n",
    "# check devtools>console to see this work\n",
    "\n",
    "Javascript(js)"
   ]
  }
 ],
 "metadata": {
  "kernelspec": {
   "display_name": "Python [conda env:root] *",
   "language": "python",
   "name": "conda-root-py"
  },
  "language_info": {
   "codemirror_mode": {
    "name": "ipython",
    "version": 3
   },
   "file_extension": ".py",
   "mimetype": "text/x-python",
   "name": "python",
   "nbconvert_exporter": "python",
   "pygments_lexer": "ipython3",
   "version": "3.7.4"
  }
 },
 "nbformat": 4,
 "nbformat_minor": 2
}
